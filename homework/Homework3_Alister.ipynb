{
 "cells": [
  {
   "cell_type": "markdown",
   "metadata": {},
   "source": [
    "# SYD DAT 6 \n",
    "\n",
    "## Homework - Due Monday 28th November 2016\n",
    "\n",
    "#### Course Project homework\n",
    "Share with a me a Jupyter notebook containing the following:\n",
    "* Data read into python in a data frame\n",
    "* A statistical summary of your data\n",
    "* A visualisation of your data\n",
    "* One of the following with your data; Linear or Logistic Regression (with regularization), or Clustering.\n",
    "* A written summary at the end describing your data\n",
    "\n",
    "#### Bonus\n",
    "Pick one data science topic that interests you, could be an article, or how a Kaggle competition was won, or an article incorporating data journalism. Write a short blog post (2 pages) with some visualisations where you discuss what was interesting.\n",
    "\n",
    "**Instructions: share the notebook and any other docuements with your name on the file e.g. _alasdaird.ipynb.\n",
    "Then commit this in your local repository, push it to your github account and create a pull request so I can see your work. Remeber if you get stuck to look at the slides going over Fork, Clone, Commit, Push and Pull request.**"
   ]
  },
  {
   "cell_type": "code",
   "execution_count": 49,
   "metadata": {
    "collapsed": true
   },
   "outputs": [],
   "source": [
    "import pandas as pd\n",
    "import pip\n",
    "import nltk\n",
    "import re\n",
    "from sklearn import datasets\n",
    "from sklearn.cluster import KMeans\n",
    "import numpy as np\n",
    "import matplotlib.pyplot as plt\n",
    "import statsmodels.formula.api as smf\n",
    "%matplotlib inline"
   ]
  },
  {
   "cell_type": "code",
   "execution_count": 14,
   "metadata": {
    "collapsed": false
   },
   "outputs": [],
   "source": [
    "songlist = pd.read_csv('allsongs_lyrkl_alister.csv', header=0)"
   ]
  },
  {
   "cell_type": "code",
   "execution_count": 15,
   "metadata": {
    "collapsed": false
   },
   "outputs": [
    {
     "data": {
      "text/html": [
       "<div>\n",
       "<table border=\"1\" class=\"dataframe\">\n",
       "  <thead>\n",
       "    <tr style=\"text-align: right;\">\n",
       "      <th></th>\n",
       "      <th>Unnamed: 0</th>\n",
       "      <th>rank</th>\n",
       "      <th>word_counts</th>\n",
       "      <th>unique_word_counts</th>\n",
       "      <th>lyrkl_score</th>\n",
       "      <th>Year</th>\n",
       "    </tr>\n",
       "  </thead>\n",
       "  <tbody>\n",
       "    <tr>\n",
       "      <th>count</th>\n",
       "      <td>500.000000</td>\n",
       "      <td>500.000000</td>\n",
       "      <td>500.000000</td>\n",
       "      <td>500.000000</td>\n",
       "      <td>500.000000</td>\n",
       "      <td>500.00000</td>\n",
       "    </tr>\n",
       "    <tr>\n",
       "      <th>mean</th>\n",
       "      <td>49.500000</td>\n",
       "      <td>50.500000</td>\n",
       "      <td>396.344000</td>\n",
       "      <td>135.838000</td>\n",
       "      <td>49.569520</td>\n",
       "      <td>2013.00000</td>\n",
       "    </tr>\n",
       "    <tr>\n",
       "      <th>std</th>\n",
       "      <td>28.894979</td>\n",
       "      <td>28.894979</td>\n",
       "      <td>147.924403</td>\n",
       "      <td>61.037586</td>\n",
       "      <td>30.421820</td>\n",
       "      <td>1.41563</td>\n",
       "    </tr>\n",
       "    <tr>\n",
       "      <th>min</th>\n",
       "      <td>0.000000</td>\n",
       "      <td>1.000000</td>\n",
       "      <td>8.000000</td>\n",
       "      <td>4.000000</td>\n",
       "      <td>1.028571</td>\n",
       "      <td>2011.00000</td>\n",
       "    </tr>\n",
       "    <tr>\n",
       "      <th>25%</th>\n",
       "      <td>24.750000</td>\n",
       "      <td>25.750000</td>\n",
       "      <td>305.000000</td>\n",
       "      <td>97.000000</td>\n",
       "      <td>27.617486</td>\n",
       "      <td>2012.00000</td>\n",
       "    </tr>\n",
       "    <tr>\n",
       "      <th>50%</th>\n",
       "      <td>49.500000</td>\n",
       "      <td>50.500000</td>\n",
       "      <td>376.500000</td>\n",
       "      <td>121.500000</td>\n",
       "      <td>41.984835</td>\n",
       "      <td>2013.00000</td>\n",
       "    </tr>\n",
       "    <tr>\n",
       "      <th>75%</th>\n",
       "      <td>74.250000</td>\n",
       "      <td>75.250000</td>\n",
       "      <td>461.250000</td>\n",
       "      <td>160.250000</td>\n",
       "      <td>61.457229</td>\n",
       "      <td>2014.00000</td>\n",
       "    </tr>\n",
       "    <tr>\n",
       "      <th>max</th>\n",
       "      <td>99.000000</td>\n",
       "      <td>100.000000</td>\n",
       "      <td>952.000000</td>\n",
       "      <td>409.000000</td>\n",
       "      <td>211.480405</td>\n",
       "      <td>2015.00000</td>\n",
       "    </tr>\n",
       "  </tbody>\n",
       "</table>\n",
       "</div>"
      ],
      "text/plain": [
       "       Unnamed: 0        rank  word_counts  unique_word_counts  lyrkl_score  \\\n",
       "count  500.000000  500.000000   500.000000          500.000000   500.000000   \n",
       "mean    49.500000   50.500000   396.344000          135.838000    49.569520   \n",
       "std     28.894979   28.894979   147.924403           61.037586    30.421820   \n",
       "min      0.000000    1.000000     8.000000            4.000000     1.028571   \n",
       "25%     24.750000   25.750000   305.000000           97.000000    27.617486   \n",
       "50%     49.500000   50.500000   376.500000          121.500000    41.984835   \n",
       "75%     74.250000   75.250000   461.250000          160.250000    61.457229   \n",
       "max     99.000000  100.000000   952.000000          409.000000   211.480405   \n",
       "\n",
       "             Year  \n",
       "count   500.00000  \n",
       "mean   2013.00000  \n",
       "std       1.41563  \n",
       "min    2011.00000  \n",
       "25%    2012.00000  \n",
       "50%    2013.00000  \n",
       "75%    2014.00000  \n",
       "max    2015.00000  "
      ]
     },
     "execution_count": 15,
     "metadata": {},
     "output_type": "execute_result"
    }
   ],
   "source": [
    "#Summary of Data\n",
    "songlist.describe()"
   ]
  },
  {
   "cell_type": "code",
   "execution_count": 46,
   "metadata": {
    "collapsed": false
   },
   "outputs": [],
   "source": [
    "wc = pd.DataFrame(songlist.word_counts, songlist.unique_word_counts)"
   ]
  },
  {
   "cell_type": "code",
   "execution_count": null,
   "metadata": {
    "collapsed": false
   },
   "outputs": [],
   "source": []
  },
  {
   "cell_type": "code",
   "execution_count": 35,
   "metadata": {
    "collapsed": false
   },
   "outputs": [
    {
     "data": {
      "image/png": "[encoded data removed]",
      "text/plain": [
       "<matplotlib.figure.Figure at 0x11b0a9a10>"
      ]
     },
     "metadata": {},
     "output_type": "display_data"
    },
    {
     "data": {
      "text/plain": [
       "<matplotlib.figure.Figure at 0x11e881550>"
      ]
     },
     "metadata": {},
     "output_type": "display_data"
    }
   ],
   "source": [
    "#Visualisation of Data\n",
    "colors = np.array(['#FF0054','#FBD039','#23C2BC'])\n",
    "songlist.plot(kind='scatter', x='word_counts', y='unique_word_counts', alpha=0.5, c='salmon')\n",
    "plt.suptitle(\"\")\n",
    "plt.title('WORD COUNT SCATTER PLOT 2011-2015')\n",
    "plt.xlabel('Word Count')\n",
    "plt.ylabel('Unique Word Count')\n",
    "plt.ylim([0,450])\n",
    "plt.xlim([0,1000])\n",
    "plt.show() \n",
    "plt.savefig('WORD COUNT SCATTER PLOT 2011-2015.png')"
   ]
  },
  {
   "cell_type": "code",
   "execution_count": 53,
   "metadata": {
    "collapsed": false
   },
   "outputs": [],
   "source": [
    "lm = smf.ols(formula='rank ~ word_counts + unique_word_counts + lyrkl_score', data=songlist).fit()"
   ]
  },
  {
   "cell_type": "code",
   "execution_count": 54,
   "metadata": {
    "collapsed": false
   },
   "outputs": [
    {
     "data": {
      "text/plain": [
       "Intercept             51.970791\n",
       "word_counts           -0.025728\n",
       "unique_word_counts     0.048604\n",
       "lyrkl_score            0.042852\n",
       "dtype: float64"
      ]
     },
     "execution_count": 54,
     "metadata": {},
     "output_type": "execute_result"
    }
   ],
   "source": [
    "lm.params"
   ]
  },
  {
   "cell_type": "code",
   "execution_count": 55,
   "metadata": {
    "collapsed": false
   },
   "outputs": [
    {
     "data": {
      "text/html": [
       "<table class=\"simpletable\">\n",
       "<caption>OLS Regression Results</caption>\n",
       "<tr>\n",
       "  <th>Dep. Variable:</th>          <td>rank</td>       <th>  R-squared:         </th> <td>   0.010</td>\n",
       "</tr>\n",
       "<tr>\n",
       "  <th>Model:</th>                   <td>OLS</td>       <th>  Adj. R-squared:    </th> <td>   0.004</td>\n",
       "</tr>\n",
       "<tr>\n",
       "  <th>Method:</th>             <td>Least Squares</td>  <th>  F-statistic:       </th> <td>   1.640</td>\n",
       "</tr>\n",
       "<tr>\n",
       "  <th>Date:</th>             <td>Wed, 14 Dec 2016</td> <th>  Prob (F-statistic):</th>  <td> 0.179</td> \n",
       "</tr>\n",
       "<tr>\n",
       "  <th>Time:</th>                 <td>14:08:50</td>     <th>  Log-Likelihood:    </th> <td> -2388.3</td>\n",
       "</tr>\n",
       "<tr>\n",
       "  <th>No. Observations:</th>      <td>   500</td>      <th>  AIC:               </th> <td>   4785.</td>\n",
       "</tr>\n",
       "<tr>\n",
       "  <th>Df Residuals:</th>          <td>   496</td>      <th>  BIC:               </th> <td>   4802.</td>\n",
       "</tr>\n",
       "<tr>\n",
       "  <th>Df Model:</th>              <td>     3</td>      <th>                     </th>     <td> </td>   \n",
       "</tr>\n",
       "<tr>\n",
       "  <th>Covariance Type:</th>      <td>nonrobust</td>    <th>                     </th>     <td> </td>   \n",
       "</tr>\n",
       "</table>\n",
       "<table class=\"simpletable\">\n",
       "<tr>\n",
       "           <td></td>             <th>coef</th>     <th>std err</th>      <th>t</th>      <th>P>|t|</th> <th>[95.0% Conf. Int.]</th> \n",
       "</tr>\n",
       "<tr>\n",
       "  <th>Intercept</th>          <td>   51.9708</td> <td>    3.735</td> <td>   13.914</td> <td> 0.000</td> <td>   44.632    59.310</td>\n",
       "</tr>\n",
       "<tr>\n",
       "  <th>word_counts</th>        <td>   -0.0257</td> <td>    0.037</td> <td>   -0.688</td> <td> 0.492</td> <td>   -0.099     0.048</td>\n",
       "</tr>\n",
       "<tr>\n",
       "  <th>unique_word_counts</th> <td>    0.0486</td> <td>    0.204</td> <td>    0.239</td> <td> 0.811</td> <td>   -0.351     0.448</td>\n",
       "</tr>\n",
       "<tr>\n",
       "  <th>lyrkl_score</th>        <td>    0.0429</td> <td>    0.286</td> <td>    0.150</td> <td> 0.881</td> <td>   -0.519     0.605</td>\n",
       "</tr>\n",
       "</table>\n",
       "<table class=\"simpletable\">\n",
       "<tr>\n",
       "  <th>Omnibus:</th>       <td>262.688</td> <th>  Durbin-Watson:     </th> <td>   0.118</td>\n",
       "</tr>\n",
       "<tr>\n",
       "  <th>Prob(Omnibus):</th> <td> 0.000</td>  <th>  Jarque-Bera (JB):  </th> <td>  28.655</td>\n",
       "</tr>\n",
       "<tr>\n",
       "  <th>Skew:</th>          <td>-0.006</td>  <th>  Prob(JB):          </th> <td>5.99e-07</td>\n",
       "</tr>\n",
       "<tr>\n",
       "  <th>Kurtosis:</th>      <td> 1.827</td>  <th>  Cond. No.          </th> <td>1.30e+03</td>\n",
       "</tr>\n",
       "</table>"
      ],
      "text/plain": [
       "<class 'statsmodels.iolib.summary.Summary'>\n",
       "\"\"\"\n",
       "                            OLS Regression Results                            \n",
       "==============================================================================\n",
       "Dep. Variable:                   rank   R-squared:                       0.010\n",
       "Model:                            OLS   Adj. R-squared:                  0.004\n",
       "Method:                 Least Squares   F-statistic:                     1.640\n",
       "Date:                Wed, 14 Dec 2016   Prob (F-statistic):              0.179\n",
       "Time:                        14:08:50   Log-Likelihood:                -2388.3\n",
       "No. Observations:                 500   AIC:                             4785.\n",
       "Df Residuals:                     496   BIC:                             4802.\n",
       "Df Model:                           3                                         \n",
       "Covariance Type:            nonrobust                                         \n",
       "======================================================================================\n",
       "                         coef    std err          t      P>|t|      [95.0% Conf. Int.]\n",
       "--------------------------------------------------------------------------------------\n",
       "Intercept             51.9708      3.735     13.914      0.000        44.632    59.310\n",
       "word_counts           -0.0257      0.037     -0.688      0.492        -0.099     0.048\n",
       "unique_word_counts     0.0486      0.204      0.239      0.811        -0.351     0.448\n",
       "lyrkl_score            0.0429      0.286      0.150      0.881        -0.519     0.605\n",
       "==============================================================================\n",
       "Omnibus:                      262.688   Durbin-Watson:                   0.118\n",
       "Prob(Omnibus):                  0.000   Jarque-Bera (JB):               28.655\n",
       "Skew:                          -0.006   Prob(JB):                     5.99e-07\n",
       "Kurtosis:                       1.827   Cond. No.                     1.30e+03\n",
       "==============================================================================\n",
       "\n",
       "Warnings:\n",
       "[1] Standard Errors assume that the covariance matrix of the errors is correctly specified.\n",
       "[2] The condition number is large, 1.3e+03. This might indicate that there are\n",
       "strong multicollinearity or other numerical problems.\n",
       "\"\"\""
      ]
     },
     "execution_count": 55,
     "metadata": {},
     "output_type": "execute_result"
    }
   ],
   "source": [
    "lm.summary()"
   ]
  },
  {
   "cell_type": "code",
   "execution_count": 56,
   "metadata": {
    "collapsed": false
   },
   "outputs": [],
   "source": [
    "lm = smf.ols(formula='rank ~ lyrkl_score', data=songlist).fit()"
   ]
  },
  {
   "cell_type": "code",
   "execution_count": 57,
   "metadata": {
    "collapsed": false
   },
   "outputs": [
    {
     "data": {
      "text/plain": [
       "Intercept      47.366362\n",
       "lyrkl_score     0.063217\n",
       "dtype: float64"
      ]
     },
     "execution_count": 57,
     "metadata": {},
     "output_type": "execute_result"
    }
   ],
   "source": [
    "lm.params"
   ]
  },
  {
   "cell_type": "code",
   "execution_count": 58,
   "metadata": {
    "collapsed": false
   },
   "outputs": [
    {
     "data": {
      "text/html": [
       "<table class=\"simpletable\">\n",
       "<caption>OLS Regression Results</caption>\n",
       "<tr>\n",
       "  <th>Dep. Variable:</th>          <td>rank</td>       <th>  R-squared:         </th> <td>   0.004</td>\n",
       "</tr>\n",
       "<tr>\n",
       "  <th>Model:</th>                   <td>OLS</td>       <th>  Adj. R-squared:    </th> <td>   0.002</td>\n",
       "</tr>\n",
       "<tr>\n",
       "  <th>Method:</th>             <td>Least Squares</td>  <th>  F-statistic:       </th> <td>   2.216</td>\n",
       "</tr>\n",
       "<tr>\n",
       "  <th>Date:</th>             <td>Wed, 14 Dec 2016</td> <th>  Prob (F-statistic):</th>  <td> 0.137</td> \n",
       "</tr>\n",
       "<tr>\n",
       "  <th>Time:</th>                 <td>14:09:48</td>     <th>  Log-Likelihood:    </th> <td> -2389.7</td>\n",
       "</tr>\n",
       "<tr>\n",
       "  <th>No. Observations:</th>      <td>   500</td>      <th>  AIC:               </th> <td>   4783.</td>\n",
       "</tr>\n",
       "<tr>\n",
       "  <th>Df Residuals:</th>          <td>   498</td>      <th>  BIC:               </th> <td>   4792.</td>\n",
       "</tr>\n",
       "<tr>\n",
       "  <th>Df Model:</th>              <td>     1</td>      <th>                     </th>     <td> </td>   \n",
       "</tr>\n",
       "<tr>\n",
       "  <th>Covariance Type:</th>      <td>nonrobust</td>    <th>                     </th>     <td> </td>   \n",
       "</tr>\n",
       "</table>\n",
       "<table class=\"simpletable\">\n",
       "<tr>\n",
       "       <td></td>          <th>coef</th>     <th>std err</th>      <th>t</th>      <th>P>|t|</th> <th>[95.0% Conf. Int.]</th> \n",
       "</tr>\n",
       "<tr>\n",
       "  <th>Intercept</th>   <td>   47.3664</td> <td>    2.469</td> <td>   19.182</td> <td> 0.000</td> <td>   42.515    52.218</td>\n",
       "</tr>\n",
       "<tr>\n",
       "  <th>lyrkl_score</th> <td>    0.0632</td> <td>    0.042</td> <td>    1.489</td> <td> 0.137</td> <td>   -0.020     0.147</td>\n",
       "</tr>\n",
       "</table>\n",
       "<table class=\"simpletable\">\n",
       "<tr>\n",
       "  <th>Omnibus:</th>       <td>299.847</td> <th>  Durbin-Watson:     </th> <td>   0.108</td>\n",
       "</tr>\n",
       "<tr>\n",
       "  <th>Prob(Omnibus):</th> <td> 0.000</td>  <th>  Jarque-Bera (JB):  </th> <td>  29.618</td>\n",
       "</tr>\n",
       "<tr>\n",
       "  <th>Skew:</th>          <td>-0.000</td>  <th>  Prob(JB):          </th> <td>3.70e-07</td>\n",
       "</tr>\n",
       "<tr>\n",
       "  <th>Kurtosis:</th>      <td> 1.808</td>  <th>  Cond. No.          </th> <td>    111.</td>\n",
       "</tr>\n",
       "</table>"
      ],
      "text/plain": [
       "<class 'statsmodels.iolib.summary.Summary'>\n",
       "\"\"\"\n",
       "                            OLS Regression Results                            \n",
       "==============================================================================\n",
       "Dep. Variable:                   rank   R-squared:                       0.004\n",
       "Model:                            OLS   Adj. R-squared:                  0.002\n",
       "Method:                 Least Squares   F-statistic:                     2.216\n",
       "Date:                Wed, 14 Dec 2016   Prob (F-statistic):              0.137\n",
       "Time:                        14:09:48   Log-Likelihood:                -2389.7\n",
       "No. Observations:                 500   AIC:                             4783.\n",
       "Df Residuals:                     498   BIC:                             4792.\n",
       "Df Model:                           1                                         \n",
       "Covariance Type:            nonrobust                                         \n",
       "===============================================================================\n",
       "                  coef    std err          t      P>|t|      [95.0% Conf. Int.]\n",
       "-------------------------------------------------------------------------------\n",
       "Intercept      47.3664      2.469     19.182      0.000        42.515    52.218\n",
       "lyrkl_score     0.0632      0.042      1.489      0.137        -0.020     0.147\n",
       "==============================================================================\n",
       "Omnibus:                      299.847   Durbin-Watson:                   0.108\n",
       "Prob(Omnibus):                  0.000   Jarque-Bera (JB):               29.618\n",
       "Skew:                          -0.000   Prob(JB):                     3.70e-07\n",
       "Kurtosis:                       1.808   Cond. No.                         111.\n",
       "==============================================================================\n",
       "\n",
       "Warnings:\n",
       "[1] Standard Errors assume that the covariance matrix of the errors is correctly specified.\n",
       "\"\"\""
      ]
     },
     "execution_count": 58,
     "metadata": {},
     "output_type": "execute_result"
    }
   ],
   "source": [
    "lm.summary()"
   ]
  },
  {
   "cell_type": "markdown",
   "metadata": {},
   "source": [
    "# Describing the Data\n",
    "\n",
    "The data shows that a large portion of the word count is between 200-500 total words per song. Looking at the feautres in linear regression, there does not appear to be any correlation for rank and the other features."
   ]
  },
  {
   "cell_type": "code",
   "execution_count": null,
   "metadata": {
    "collapsed": true
   },
   "outputs": [],
   "source": []
  }
 ],
 "metadata": {
  "anaconda-cloud": {},
  "kernelspec": {
   "display_name": "Python [default]",
   "language": "python",
   "name": "python2"
  },
  "language_info": {
   "codemirror_mode": {
    "name": "ipython",
    "version": 2
   },
   "file_extension": ".py",
   "mimetype": "text/x-python",
   "name": "python",
   "nbconvert_exporter": "python",
   "pygments_lexer": "ipython2",
   "version": "2.7.12"
  }
 },
 "nbformat": 4,
 "nbformat_minor": 0
}

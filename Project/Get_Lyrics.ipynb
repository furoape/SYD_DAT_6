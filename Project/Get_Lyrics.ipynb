{
 "cells": [
  {
   "cell_type": "code",
   "execution_count": 136,
   "metadata": {
    "collapsed": true
   },
   "outputs": [],
   "source": [
    "import pandas as pd\n",
    "import pip\n",
    "import urllib\n",
    "import requests\n",
    "from bs4 import BeautifulSoup as bs"
   ]
  },
  {
   "cell_type": "code",
   "execution_count": 137,
   "metadata": {
    "collapsed": true
   },
   "outputs": [],
   "source": [
    "CLIENT_ACCESS_TOKEN = \"pTXMqwbdkhkROKmtMrxmI0KgAb-TS0CPYk8nCHTq1x70lc42GlvkoN1YJjNOakDW\"\n",
    "\n",
    "def _get(path, params=None, headers=None):\n",
    "    url = s15_url.url\n",
    "\n",
    "    token = \"Bearer {}\".format(CLIENT_ACCESS_TOKEN)\n",
    "\n",
    "    if headers:\n",
    "        headers['Authorization'] = token\n",
    "    else:\n",
    "        headers = {\"Authorization\": token}\n",
    "\n",
    "    response = requests.get(url=url, params=params, headers=headers)\n",
    "    response.raise_for_status()\n",
    "\n",
    "    return response.json()"
   ]
  },
  {
   "cell_type": "code",
   "execution_count": 138,
   "metadata": {
    "collapsed": true
   },
   "outputs": [],
   "source": [
    "def scrape_lyrics(url):\n",
    "\n",
    "    response = requests.get(url)\n",
    "    html = response.text\n",
    "\n",
    "    soup = bs(html, 'html.parser')\n",
    "\n",
    "    lyrics = soup.find(name=\"lyrics\")\n",
    " \n",
    "\n",
    "    lyrics_text = \", \".join([lyric for lyric in lyrics.stripped_strings])\n",
    "    return lyrics_text"
   ]
  },
  {
   "cell_type": "code",
   "execution_count": 139,
   "metadata": {
    "collapsed": false
   },
   "outputs": [],
   "source": [
    "song_cols = ['rank', 'songname', 'artist']\n",
    "s15 = pd.read_csv('Songs2015.csv', header=None, names=song_cols)\n",
    "#print s15"
   ]
  },
  {
   "cell_type": "code",
   "execution_count": 140,
   "metadata": {
    "collapsed": false
   },
   "outputs": [],
   "source": [
    "url = 'http://genius.com/' + (s15.artist) + '-' + (s15.songname) + '-lyrics'\n",
    "url_list = pd.DataFrame(url,)\n",
    "#print urls"
   ]
  },
  {
   "cell_type": "code",
   "execution_count": 143,
   "metadata": {
    "collapsed": false
   },
   "outputs": [
    {
     "name": "stdout",
     "output_type": "stream",
     "text": [
      "    rank                songname                     artist  \\\n",
      "0      1             Uptown-Funk                Mark-Ronson   \n",
      "1      2       Thinking-Out-Loud                 Ed-Sheeran   \n",
      "2      3           See-You-Again                Wiz-Khalifa   \n",
      "3      4              Trap-Queen                  Fetty-Wap   \n",
      "4      5                   Sugar                   Maroon-5   \n",
      "5      6       Shut-Up-and-Dance              Walk-the-Moon   \n",
      "6      7             Blank-Space               Taylor-Swift   \n",
      "7      8                Watch-Me                    Silento   \n",
      "8      9               Earned-It                 The-Weeknd   \n",
      "9     10               The-Hills                 The-Weeknd   \n",
      "10    11             Cheerleader                        OMI   \n",
      "11    12       Cant-Feel-My-Face                 The-Weeknd   \n",
      "12    13     Love-Me-Like-You-Do             Ellie-Goulding   \n",
      "13    14       Take-Me-to-Church                     Hozier   \n",
      "14    15               Bad-Blood               Taylor-Swift   \n",
      "15    16                 Lean-On                Major-Lazer   \n",
      "16    17         Want-to-Want-Me               Jason-Derulo   \n",
      "17    18            Shake-It-Off               Taylor-Swift   \n",
      "18    19         Where-Are-u-Now                     Jack-U   \n",
      "19    20              Fight-Song             Rachel-Platten   \n",
      "20    21                     679                  Fetty-Wap   \n",
      "21    22          Lips-Are-Movin             Meghan-Trainor   \n",
      "22    23                Worth-It              Fifth-Harmony   \n",
      "23    24              Post-to-Be                    Omarion   \n",
      "24    25           Honey-Im-Good               Andy-Grammer   \n",
      "25    26     Im-Not-the-Only-One                  Sam-Smith   \n",
      "26    27            Good-for-You               Selena-Gomez   \n",
      "27    28     All-About-That-Bass             Meghan-Trainor   \n",
      "28    29                   Style               Taylor-Swift   \n",
      "29    30           Hotline-Bling                      Drake   \n",
      "..   ...                     ...                        ...   \n",
      "70    71                 Riptide                  Vance-Joy   \n",
      "71    72             Classic-Man                    Jidenna   \n",
      "72    73             Exs-and-Ohs                  Elle-King   \n",
      "73    74     Dear-Future-Husband             Meghan-Trainor   \n",
      "74    75             Marvin-Gaye               Charlie-Puth   \n",
      "75    76  Like-Im-Gonna-Lose-You             Meghan-Trainor   \n",
      "76    77        Habits-Stay-High                    Tove-Lo   \n",
      "77    78        The-Hanging-Tree        James-Newton-Howard   \n",
      "78    79                    CoCo                 OT-Genasis   \n",
      "79    80               Bang-Bang                   Jessie-J   \n",
      "80    81             Lay-Me-Down                  Sam-Smith   \n",
      "81    82                 Tuesday              ILoveMakonnen   \n",
      "82    83            Hit-the-Quan               iLoveMemphis   \n",
      "83    84                Downtown  Macklemore-and-Ryan-Lewis   \n",
      "84    85             House-Party                   Sam-Hunt   \n",
      "85    86                     Ayo                Chris-Brown   \n",
      "86    87        Kick-the-Dust-Up                 Luke-Bryan   \n",
      "87    88               Blessings                   Big-Sean   \n",
      "88    89                Budapest                George-Ezra   \n",
      "89    90              Chandelier                        Sia   \n",
      "90    91          Heartbeat-Song             Kelly-Clarkson   \n",
      "91    92                    Dont                 Ed-Sheeran   \n",
      "92    93                   Ghost             Ella-Henderson   \n",
      "93    94                    Here               Alessia-Cara   \n",
      "94    95                   Waves                   Mr-Probz   \n",
      "95    96               El-Perdon                  Nicky-Jam   \n",
      "96    97               She-Knows                      Ne-Yo   \n",
      "97    98           Night-Changes              One-Direction   \n",
      "98    99            Back-to-Back                      Drake   \n",
      "99   100   How-Deep-Is-Your-Love              Calvin-Harris   \n",
      "\n",
      "                                                 urls  \n",
      "0    http://genius.com/Mark-Ronson-Uptown-Funk-lyrics  \n",
      "1   http://genius.com/Ed-Sheeran-Thinking-Out-Loud...  \n",
      "2   http://genius.com/Wiz-Khalifa-See-You-Again-ly...  \n",
      "3       http://genius.com/Fetty-Wap-Trap-Queen-lyrics  \n",
      "4             http://genius.com/Maroon-5-Sugar-lyrics  \n",
      "5   http://genius.com/Walk-the-Moon-Shut-Up-and-Da...  \n",
      "6   http://genius.com/Taylor-Swift-Blank-Space-lyrics  \n",
      "7           http://genius.com/Silento-Watch-Me-lyrics  \n",
      "8       http://genius.com/The-Weeknd-Earned-It-lyrics  \n",
      "9       http://genius.com/The-Weeknd-The-Hills-lyrics  \n",
      "10           http://genius.com/OMI-Cheerleader-lyrics  \n",
      "11  http://genius.com/The-Weeknd-Cant-Feel-My-Face...  \n",
      "12  http://genius.com/Ellie-Goulding-Love-Me-Like-...  \n",
      "13  http://genius.com/Hozier-Take-Me-to-Church-lyrics  \n",
      "14    http://genius.com/Taylor-Swift-Bad-Blood-lyrics  \n",
      "15       http://genius.com/Major-Lazer-Lean-On-lyrics  \n",
      "16  http://genius.com/Jason-Derulo-Want-to-Want-Me...  \n",
      "17  http://genius.com/Taylor-Swift-Shake-It-Off-ly...  \n",
      "18    http://genius.com/Jack-U-Where-Are-u-Now-lyrics  \n",
      "19  http://genius.com/Rachel-Platten-Fight-Song-ly...  \n",
      "20             http://genius.com/Fetty-Wap-679-lyrics  \n",
      "21  http://genius.com/Meghan-Trainor-Lips-Are-Movi...  \n",
      "22    http://genius.com/Fifth-Harmony-Worth-It-lyrics  \n",
      "23        http://genius.com/Omarion-Post-to-Be-lyrics  \n",
      "24  http://genius.com/Andy-Grammer-Honey-Im-Good-l...  \n",
      "25  http://genius.com/Sam-Smith-Im-Not-the-Only-On...  \n",
      "26  http://genius.com/Selena-Gomez-Good-for-You-ly...  \n",
      "27  http://genius.com/Meghan-Trainor-All-About-Tha...  \n",
      "28        http://genius.com/Taylor-Swift-Style-lyrics  \n",
      "29       http://genius.com/Drake-Hotline-Bling-lyrics  \n",
      "..                                                ...  \n",
      "70         http://genius.com/Vance-Joy-Riptide-lyrics  \n",
      "71       http://genius.com/Jidenna-Classic-Man-lyrics  \n",
      "72     http://genius.com/Elle-King-Exs-and-Ohs-lyrics  \n",
      "73  http://genius.com/Meghan-Trainor-Dear-Future-H...  \n",
      "74  http://genius.com/Charlie-Puth-Marvin-Gaye-lyrics  \n",
      "75  http://genius.com/Meghan-Trainor-Like-Im-Gonna...  \n",
      "76  http://genius.com/Tove-Lo-Habits-Stay-High-lyrics  \n",
      "77  http://genius.com/James-Newton-Howard-The-Hang...  \n",
      "78           http://genius.com/OT-Genasis-CoCo-lyrics  \n",
      "79        http://genius.com/Jessie-J-Bang-Bang-lyrics  \n",
      "80     http://genius.com/Sam-Smith-Lay-Me-Down-lyrics  \n",
      "81     http://genius.com/ILoveMakonnen-Tuesday-lyrics  \n",
      "82  http://genius.com/iLoveMemphis-Hit-the-Quan-ly...  \n",
      "83  http://genius.com/Macklemore-and-Ryan-Lewis-Do...  \n",
      "84      http://genius.com/Sam-Hunt-House-Party-lyrics  \n",
      "85           http://genius.com/Chris-Brown-Ayo-lyrics  \n",
      "86  http://genius.com/Luke-Bryan-Kick-the-Dust-Up-...  \n",
      "87        http://genius.com/Big-Sean-Blessings-lyrics  \n",
      "88      http://genius.com/George-Ezra-Budapest-lyrics  \n",
      "89            http://genius.com/Sia-Chandelier-lyrics  \n",
      "90  http://genius.com/Kelly-Clarkson-Heartbeat-Son...  \n",
      "91           http://genius.com/Ed-Sheeran-Dont-lyrics  \n",
      "92      http://genius.com/Ella-Henderson-Ghost-lyrics  \n",
      "93         http://genius.com/Alessia-Cara-Here-lyrics  \n",
      "94            http://genius.com/Mr-Probz-Waves-lyrics  \n",
      "95       http://genius.com/Nicky-Jam-El-Perdon-lyrics  \n",
      "96           http://genius.com/Ne-Yo-She-Knows-lyrics  \n",
      "97  http://genius.com/One-Direction-Night-Changes-...  \n",
      "98        http://genius.com/Drake-Back-to-Back-lyrics  \n",
      "99  http://genius.com/Calvin-Harris-How-Deep-Is-Yo...  \n",
      "\n",
      "[100 rows x 4 columns]\n"
     ]
    }
   ],
   "source": [
    "s15_url = pd.concat([s15, url_list], axis=1, ignore_index=True)\n",
    "s15_url.columns = ['rank', 'songname', 'artist', 'urls']\n",
    "print s15_url\n",
    "#s15_url.to_csv('s15_url.csv')"
   ]
  },
  {
   "cell_type": "code",
   "execution_count": 93,
   "metadata": {
    "collapsed": false
   },
   "outputs": [],
   "source": [
    "#s15.assign(raw_lyrics = scrape_lyrics(s15_url.url))"
   ]
  },
  {
   "cell_type": "code",
   "execution_count": 154,
   "metadata": {
    "collapsed": false
   },
   "outputs": [
    {
     "name": "stdout",
     "output_type": "stream",
     "text": [
      "0      http://genius.com/Mark-Ronson-Uptown-Funk-lyrics\n",
      "1     http://genius.com/Ed-Sheeran-Thinking-Out-Loud...\n",
      "2     http://genius.com/Wiz-Khalifa-See-You-Again-ly...\n",
      "3         http://genius.com/Fetty-Wap-Trap-Queen-lyrics\n",
      "4               http://genius.com/Maroon-5-Sugar-lyrics\n",
      "5     http://genius.com/Walk-the-Moon-Shut-Up-and-Da...\n",
      "6     http://genius.com/Taylor-Swift-Blank-Space-lyrics\n",
      "7             http://genius.com/Silento-Watch-Me-lyrics\n",
      "8         http://genius.com/The-Weeknd-Earned-It-lyrics\n",
      "9         http://genius.com/The-Weeknd-The-Hills-lyrics\n",
      "10             http://genius.com/OMI-Cheerleader-lyrics\n",
      "11    http://genius.com/The-Weeknd-Cant-Feel-My-Face...\n",
      "12    http://genius.com/Ellie-Goulding-Love-Me-Like-...\n",
      "13    http://genius.com/Hozier-Take-Me-to-Church-lyrics\n",
      "14      http://genius.com/Taylor-Swift-Bad-Blood-lyrics\n",
      "15         http://genius.com/Major-Lazer-Lean-On-lyrics\n",
      "16    http://genius.com/Jason-Derulo-Want-to-Want-Me...\n",
      "17    http://genius.com/Taylor-Swift-Shake-It-Off-ly...\n",
      "18      http://genius.com/Jack-U-Where-Are-u-Now-lyrics\n",
      "19    http://genius.com/Rachel-Platten-Fight-Song-ly...\n",
      "20               http://genius.com/Fetty-Wap-679-lyrics\n",
      "21    http://genius.com/Meghan-Trainor-Lips-Are-Movi...\n",
      "22      http://genius.com/Fifth-Harmony-Worth-It-lyrics\n",
      "23          http://genius.com/Omarion-Post-to-Be-lyrics\n",
      "24    http://genius.com/Andy-Grammer-Honey-Im-Good-l...\n",
      "25    http://genius.com/Sam-Smith-Im-Not-the-Only-On...\n",
      "26    http://genius.com/Selena-Gomez-Good-for-You-ly...\n",
      "27    http://genius.com/Meghan-Trainor-All-About-Tha...\n",
      "28          http://genius.com/Taylor-Swift-Style-lyrics\n",
      "29         http://genius.com/Drake-Hotline-Bling-lyrics\n",
      "                            ...                        \n",
      "70           http://genius.com/Vance-Joy-Riptide-lyrics\n",
      "71         http://genius.com/Jidenna-Classic-Man-lyrics\n",
      "72       http://genius.com/Elle-King-Exs-and-Ohs-lyrics\n",
      "73    http://genius.com/Meghan-Trainor-Dear-Future-H...\n",
      "74    http://genius.com/Charlie-Puth-Marvin-Gaye-lyrics\n",
      "75    http://genius.com/Meghan-Trainor-Like-Im-Gonna...\n",
      "76    http://genius.com/Tove-Lo-Habits-Stay-High-lyrics\n",
      "77    http://genius.com/James-Newton-Howard-The-Hang...\n",
      "78             http://genius.com/OT-Genasis-CoCo-lyrics\n",
      "79          http://genius.com/Jessie-J-Bang-Bang-lyrics\n",
      "80       http://genius.com/Sam-Smith-Lay-Me-Down-lyrics\n",
      "81       http://genius.com/ILoveMakonnen-Tuesday-lyrics\n",
      "82    http://genius.com/iLoveMemphis-Hit-the-Quan-ly...\n",
      "83    http://genius.com/Macklemore-and-Ryan-Lewis-Do...\n",
      "84        http://genius.com/Sam-Hunt-House-Party-lyrics\n",
      "85             http://genius.com/Chris-Brown-Ayo-lyrics\n",
      "86    http://genius.com/Luke-Bryan-Kick-the-Dust-Up-...\n",
      "87          http://genius.com/Big-Sean-Blessings-lyrics\n",
      "88        http://genius.com/George-Ezra-Budapest-lyrics\n",
      "89              http://genius.com/Sia-Chandelier-lyrics\n",
      "90    http://genius.com/Kelly-Clarkson-Heartbeat-Son...\n",
      "91             http://genius.com/Ed-Sheeran-Dont-lyrics\n",
      "92        http://genius.com/Ella-Henderson-Ghost-lyrics\n",
      "93           http://genius.com/Alessia-Cara-Here-lyrics\n",
      "94              http://genius.com/Mr-Probz-Waves-lyrics\n",
      "95         http://genius.com/Nicky-Jam-El-Perdon-lyrics\n",
      "96             http://genius.com/Ne-Yo-She-Knows-lyrics\n",
      "97    http://genius.com/One-Direction-Night-Changes-...\n",
      "98          http://genius.com/Drake-Back-to-Back-lyrics\n",
      "99    http://genius.com/Calvin-Harris-How-Deep-Is-Yo...\n",
      "Name: urls, dtype: object\n"
     ]
    }
   ],
   "source": [
    "#html_doc = 'http://genius.com/Mark-Ronson-Uptown-Funk-lyrics'\n",
    "html_doc = s15_url.urls\n",
    "print html_doc"
   ]
  },
  {
   "cell_type": "code",
   "execution_count": 148,
   "metadata": {
    "collapsed": false
   },
   "outputs": [
    {
     "name": "stdout",
     "output_type": "stream",
     "text": [
      "[Verse 1], This hit, that ice cold, Michelle Pfeiffer, that white gold, This one, for them hood girls, Them good girls, straight masterpieces, Stylin', wilin', Livin’ it up in the city, Got Chucks on with Saint Laurent, Gotta kiss myself I’m so pretty, [Pre-Chorus], I’m too hot (hot damn), Call the police and the fireman, I’m too hot (hot damn), Make a dragon wanna retire man, I’m too hot (hot damn), Say my name you know who I am, I’m too hot (hot damn), And my band 'bout that money, Break it down, [Chorus], Girls hit your hallelujah (Woo!), Girls hit your hallelujah (Woo!), Girls hit your hallelujah (Woo!), Cause Uptown funk gon’ give it to you, Cause Uptown funk gon’ give it to you, Cause Uptown funk gon’ give it to you, Saturday night and we in the spot, Don’t believe me, just watch (come on), Don’t believe me, just watch, Don’t believe me, just watch, Don’t believe me, just watch, Don’t believe me, just watch, Don’t believe me, just watch, Hey, hey, hey, oh!, [Verse 2], Stop, Wait a minute, Fill my cup put some  liquor in it, Take a sip, sign the check, Julio! Get the stretch!, Ride to Harlem, Hollywood, Jackson, Mississippi, If we show up, we gon’ show out, Smoother than a fresh jar of Skippy, [Pre-Chorus 2], I’m too hot (hot damn), Call the police and the fireman, I’m too hot (hot damn), Make a dragon wanna retire man, I’m too hot (hot damn), Bitch, say my name you know who I am!, I’m too hot (hot damn), And my band 'bout that money, Break it down, [Chorus], Girls hit your hallelujah (Woo!), Girls hit your hallelujah (Woo!), Girls hit your hallelujah (Woo!), Cause Uptown Funk gon’ give it to you, Cause Uptown Funk gon’ give it to you, Cause Uptown Funk gon’ give it to you, Saturday night and we in the spot, Don’t believe me, just watch (come on), Don’t believe me, just watch, Don’t believe me, just watch, Don’t believe me, just watch, Don’t believe me, just watch, Don’t believe me, just watch, Hey, hey, hey, oh!, [Bridge], Before we leave, Lemme tell y’all a lil’ something, Uptown Funk you up, Uptown Funk you up, Uptown Funk you up, Uptown Funk you up, I said Uptown Funk you up, Uptown Funk you up, Uptown Funk you up, Uptown Funk you up, Come on, dance, Jump on it, If you sexy then flaunt it, If you freaky then own it, Don’t brag about it, come show me, Come on, dance, Jump on it, If you sexy then flaunt it, Well it’s Saturday night and we in the spot, [Part-Chorus], Don’t believe me, just watch (come on), Don’t believe me, just watch, Don’t believe me, just watch, Don’t believe me, just watch, Don’t believe me, just watch, Don’t believe me, just watch, Hey, hey, hey, oh!, [Outro], Uptown Funk you up, Uptown Funk you up (say whaa?!), Uptown Funk you up, Uptown Funk you up, Uptown Funk you up, Uptown Funk you up (say whaa?!), Uptown Funk you up, Uptown Funk you up, Uptown Funk you up, Uptown Funk you up (say whaa?!), Uptown Funk you up, Uptown Funk you up, Uptown Funk you up, Uptown Funk you up (say whaa?!), Uptown Funk you up\n"
     ]
    }
   ],
   "source": [
    "lyrics = scrape_lyrics(html_doc)\n",
    "print lyrics"
   ]
  },
  {
   "cell_type": "code",
   "execution_count": null,
   "metadata": {
    "collapsed": true
   },
   "outputs": [],
   "source": []
  }
 ],
 "metadata": {
  "anaconda-cloud": {},
  "kernelspec": {
   "display_name": "Python [default]",
   "language": "python",
   "name": "python2"
  },
  "language_info": {
   "codemirror_mode": {
    "name": "ipython",
    "version": 2
   },
   "file_extension": ".py",
   "mimetype": "text/x-python",
   "name": "python",
   "nbconvert_exporter": "python",
   "pygments_lexer": "ipython2",
   "version": "2.7.12"
  }
 },
 "nbformat": 4,
 "nbformat_minor": 1
}

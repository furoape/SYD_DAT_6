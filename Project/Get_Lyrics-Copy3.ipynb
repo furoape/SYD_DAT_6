{
 "cells": [
  {
   "cell_type": "code",
   "execution_count": 1,
   "metadata": {
    "collapsed": true
   },
   "outputs": [],
   "source": [
    "#Setup packages\n",
    "import pandas as pd\n",
    "import pip\n",
    "import urllib\n",
    "import requests\n",
    "from bs4 import BeautifulSoup as bs"
   ]
  },
  {
   "cell_type": "code",
   "execution_count": 2,
   "metadata": {
    "collapsed": true
   },
   "outputs": [],
   "source": [
    "#Genius API setup\n",
    "CLIENT_ACCESS_TOKEN = \"pTXMqwbdkhkROKmtMrxmI0KgAb-TS0CPYk8nCHTq1x70lc42GlvkoN1YJjNOakDW\"\n",
    "\n",
    "def _get(path, params=None, headers=None):\n",
    "    url = s15_url['urls']\n",
    "\n",
    "    token = \"Bearer {}\".format(CLIENT_ACCESS_TOKEN)\n",
    "\n",
    "    if headers:\n",
    "        headers['Authorization'] = token\n",
    "    else:\n",
    "        headers = {\"Authorization\": token}\n",
    "\n",
    "    response = requests.get(url=url, params=params, headers=headers)\n",
    "    response.raise_for_status()\n",
    "\n",
    "    return response.json()"
   ]
  },
  {
   "cell_type": "code",
   "execution_count": 3,
   "metadata": {
    "collapsed": false
   },
   "outputs": [],
   "source": [
    "#Import songs data from CSV\n",
    "song_cols = ['rank', 'songname', 'artist']\n",
    "s15 = pd.read_csv('Songs2015.csv', header=None, names=song_cols)\n",
    "#print s15"
   ]
  },
  {
   "cell_type": "code",
   "execution_count": 11,
   "metadata": {
    "collapsed": false
   },
   "outputs": [],
   "source": [
    "#Create dataframe containing url based on artist and songname data\n",
    "urls = 'http://genius.com/' + (s15.artist) + '-' + (s15.songname) + '-lyrics'\n",
    "url_list = pd.DataFrame(urls)\n",
    "#print url_list"
   ]
  },
  {
   "cell_type": "code",
   "execution_count": 13,
   "metadata": {
    "collapsed": false
   },
   "outputs": [],
   "source": [
    "#Merge above dataframes\n",
    "s15_url = pd.concat([s15, url_list], axis=1, ignore_index=True)\n",
    "s15_url.columns = ['rank', 'songname', 'artist', 'urls']\n",
    "#print s15_url\n",
    "#s15_url.to_csv('s15_url.csv')"
   ]
  },
  {
   "cell_type": "code",
   "execution_count": 30,
   "metadata": {
    "collapsed": false
   },
   "outputs": [],
   "source": [
    "#s15.assign(raw_lyrics = scrape_lyrics(s15_url.url))"
   ]
  },
  {
   "cell_type": "code",
   "execution_count": 15,
   "metadata": {
    "collapsed": false
   },
   "outputs": [],
   "source": [
    "def scrape_lyrics(urls):\n",
    "\n",
    "    response = requests.get(urls)\n",
    "    html = response.text\n",
    "\n",
    "    soup = bs(html, 'html.parser')\n",
    "\n",
    "    lyrics = soup.find(name=\"lyrics\")\n",
    "    \n",
    "    lyrics_text = \" / \".join([lyric for lyric in lyrics.stripped_strings])\n",
    "    return lyrics_text"
   ]
  },
  {
   "cell_type": "code",
   "execution_count": 118,
   "metadata": {
    "collapsed": false
   },
   "outputs": [],
   "source": [
    "#urls = 'http://genius.com/Mark-ronson-uptown-funk-lyrics'\n",
    "#print url"
   ]
  },
  {
   "cell_type": "code",
   "execution_count": 136,
   "metadata": {
    "collapsed": false
   },
   "outputs": [],
   "source": [
    "url = s15_url['urls']\n",
    "#print urls"
   ]
  },
  {
   "cell_type": "code",
   "execution_count": null,
   "metadata": {
    "collapsed": false
   },
   "outputs": [
    {
     "ename": "AttributeError",
     "evalue": "'NoneType' object has no attribute 'stripped_strings'",
     "output_type": "error",
     "traceback": [
      "\u001b[0;31m---------------------------------------------------------------------------\u001b[0m",
      "\u001b[0;31mAttributeError\u001b[0m                            Traceback (most recent call last)",
      "\u001b[0;32m<ipython-input-17-f1645d9b719a>\u001b[0m in \u001b[0;36m<module>\u001b[0;34m()\u001b[0m\n\u001b[1;32m      1\u001b[0m \u001b[0;32mfor\u001b[0m \u001b[0murl\u001b[0m \u001b[0;32min\u001b[0m \u001b[0murls\u001b[0m\u001b[0;34m:\u001b[0m\u001b[0;34m\u001b[0m\u001b[0m\n\u001b[0;32m----> 2\u001b[0;31m     \u001b[0mlyrics\u001b[0m \u001b[0;34m=\u001b[0m \u001b[0mscrape_lyrics\u001b[0m\u001b[0;34m(\u001b[0m\u001b[0murl\u001b[0m\u001b[0;34m)\u001b[0m\u001b[0;34m\u001b[0m\u001b[0m\n\u001b[0m\u001b[1;32m      3\u001b[0m     \u001b[0ms15_url\u001b[0m\u001b[0;34m[\u001b[0m\u001b[0;34m'lyrics_raw'\u001b[0m\u001b[0;34m]\u001b[0m \u001b[0;34m=\u001b[0m \u001b[0mlyrics\u001b[0m\u001b[0;34m\u001b[0m\u001b[0m\n",
      "\u001b[0;32m<ipython-input-15-a1b5d00b82d2>\u001b[0m in \u001b[0;36mscrape_lyrics\u001b[0;34m(urls)\u001b[0m\n\u001b[1;32m      8\u001b[0m     \u001b[0mlyrics\u001b[0m \u001b[0;34m=\u001b[0m \u001b[0msoup\u001b[0m\u001b[0;34m.\u001b[0m\u001b[0mfind\u001b[0m\u001b[0;34m(\u001b[0m\u001b[0mname\u001b[0m\u001b[0;34m=\u001b[0m\u001b[0;34m\"lyrics\"\u001b[0m\u001b[0;34m)\u001b[0m\u001b[0;34m\u001b[0m\u001b[0m\n\u001b[1;32m      9\u001b[0m \u001b[0;34m\u001b[0m\u001b[0m\n\u001b[0;32m---> 10\u001b[0;31m     \u001b[0mlyrics_text\u001b[0m \u001b[0;34m=\u001b[0m \u001b[0;34m\" / \"\u001b[0m\u001b[0;34m.\u001b[0m\u001b[0mjoin\u001b[0m\u001b[0;34m(\u001b[0m\u001b[0;34m[\u001b[0m\u001b[0mlyric\u001b[0m \u001b[0;32mfor\u001b[0m \u001b[0mlyric\u001b[0m \u001b[0;32min\u001b[0m \u001b[0mlyrics\u001b[0m\u001b[0;34m.\u001b[0m\u001b[0mstripped_strings\u001b[0m\u001b[0;34m]\u001b[0m\u001b[0;34m)\u001b[0m\u001b[0;34m\u001b[0m\u001b[0m\n\u001b[0m\u001b[1;32m     11\u001b[0m     \u001b[0;32mreturn\u001b[0m \u001b[0mlyrics_text\u001b[0m\u001b[0;34m\u001b[0m\u001b[0m\n",
      "\u001b[0;31mAttributeError\u001b[0m: 'NoneType' object has no attribute 'stripped_strings'"
     ]
    }
   ],
   "source": [
    "for url in urls:\n",
    "    lyrics = scrape_lyrics(url)\n",
    "    s15_url['lyrics_raw'] = lyrics"
   ]
  },
  {
   "cell_type": "code",
   "execution_count": 116,
   "metadata": {
    "collapsed": false
   },
   "outputs": [
    {
     "name": "stdout",
     "output_type": "stream",
     "text": [
      "    rank      songname   artist  \\\n",
      "36    37  Talking-Body  Tove-Lo   \n",
      "\n",
      "                                             urls  \\\n",
      "36  http://genius.com/Tove-Lo-Talking-Body-lyrics   \n",
      "\n",
      "                                           lyrics_raw  \n",
      "36  [Verse 1] / I don't like the way he’s looking ...  \n"
     ]
    }
   ],
   "source": [
    "print s15_url.iloc[[36]]"
   ]
  },
  {
   "cell_type": "code",
   "execution_count": 82,
   "metadata": {
    "collapsed": false
   },
   "outputs": [
    {
     "ename": "InvalidSchema",
     "evalue": "No connection adapters were found for '0      http://genius.com/Mark-Ronson-Uptown-Funk-lyrics\n1     http://genius.com/Ed-Sheeran-Thinking-Out-Loud...\n2     http://genius.com/Wiz-Khalifa-See-You-Again-ly...\n3         http://genius.com/Fetty-Wap-Trap-Queen-lyrics\n4               http://genius.com/Maroon-5-Sugar-lyrics\n5     http://genius.com/Walk-the-Moon-Shut-Up-and-Da...\n6     http://genius.com/Taylor-Swift-Blank-Space-lyrics\n7             http://genius.com/Silento-Watch-Me-lyrics\n8         http://genius.com/The-Weeknd-Earned-It-lyrics\n9         http://genius.com/The-Weeknd-The-Hills-lyrics\n10             http://genius.com/OMI-Cheerleader-lyrics\n11    http://genius.com/The-Weeknd-Cant-Feel-My-Face...\n12    http://genius.com/Ellie-Goulding-Love-Me-Like-...\n13    http://genius.com/Hozier-Take-Me-to-Church-lyrics\n14      http://genius.com/Taylor-Swift-Bad-Blood-lyrics\n15         http://genius.com/Major-Lazer-Lean-On-lyrics\n16    http://genius.com/Jason-Derulo-Want-to-Want-Me...\n17    http://genius.com/Taylor-Swift-Shake-It-Off-ly...\n18      http://genius.com/Jack-U-Where-Are-u-Now-lyrics\n19    http://genius.com/Rachel-Platten-Fight-Song-ly...\n20               http://genius.com/Fetty-Wap-679-lyrics\n21    http://genius.com/Meghan-Trainor-Lips-Are-Movi...\n22      http://genius.com/Fifth-Harmony-Worth-It-lyrics\n23          http://genius.com/Omarion-Post-to-Be-lyrics\n24    http://genius.com/Andy-Grammer-Honey-Im-Good-l...\n25    http://genius.com/Sam-Smith-Im-Not-the-Only-On...\n26    http://genius.com/Selena-Gomez-Good-for-You-ly...\n27    http://genius.com/Meghan-Trainor-All-About-Tha...\n28          http://genius.com/Taylor-Swift-Style-lyrics\n29         http://genius.com/Drake-Hotline-Bling-lyrics\n                            ...                        \n70           http://genius.com/Vance-Joy-Riptide-lyrics\n71         http://genius.com/Jidenna-Classic-Man-lyrics\n72       http://genius.com/Elle-King-Exs-and-Ohs-lyrics\n73    http://genius.com/Meghan-Trainor-Dear-Future-H...\n74    http://genius.com/Charlie-Puth-Marvin-Gaye-lyrics\n75    http://genius.com/Meghan-Trainor-Like-Im-Gonna...\n76    http://genius.com/Tove-Lo-Habits-Stay-High-lyrics\n77    http://genius.com/James-Newton-Howard-The-Hang...\n78             http://genius.com/OT-Genasis-CoCo-lyrics\n79          http://genius.com/Jessie-J-Bang-Bang-lyrics\n80       http://genius.com/Sam-Smith-Lay-Me-Down-lyrics\n81       http://genius.com/ILoveMakonnen-Tuesday-lyrics\n82    http://genius.com/iLoveMemphis-Hit-the-Quan-ly...\n83    http://genius.com/Macklemore-and-Ryan-Lewis-Do...\n84        http://genius.com/Sam-Hunt-House-Party-lyrics\n85             http://genius.com/Chris-Brown-Ayo-lyrics\n86    http://genius.com/Luke-Bryan-Kick-the-Dust-Up-...\n87          http://genius.com/Big-Sean-Blessings-lyrics\n88        http://genius.com/George-Ezra-Budapest-lyrics\n89              http://genius.com/Sia-Chandelier-lyrics\n90    http://genius.com/Kelly-Clarkson-Heartbeat-Son...\n91             http://genius.com/Ed-Sheeran-Dont-lyrics\n92        http://genius.com/Ella-Henderson-Ghost-lyrics\n93           http://genius.com/Alessia-Cara-Here-lyrics\n94              http://genius.com/Mr-Probz-Waves-lyrics\n95         http://genius.com/Nicky-Jam-El-Perdon-lyrics\n96             http://genius.com/Ne-Yo-She-Knows-lyrics\n97    http://genius.com/One-Direction-Night-Changes-...\n98          http://genius.com/Drake-Back-to-Back-lyrics\n99    http://genius.com/Calvin-Harris-How-Deep-Is-Yo...\nName: urls, dtype: object'",
     "output_type": "error",
     "traceback": [
      "\u001b[0;31m---------------------------------------------------------------------------\u001b[0m",
      "\u001b[0;31mInvalidSchema\u001b[0m                             Traceback (most recent call last)",
      "\u001b[0;32m<ipython-input-82-04db65aeedd8>\u001b[0m in \u001b[0;36m<module>\u001b[0;34m()\u001b[0m\n\u001b[1;32m      1\u001b[0m \u001b[0;34m\u001b[0m\u001b[0m\n\u001b[0;32m----> 2\u001b[0;31m \u001b[0mlyrics\u001b[0m \u001b[0;34m=\u001b[0m \u001b[0mscrape_lyrics\u001b[0m\u001b[0;34m(\u001b[0m\u001b[0murls\u001b[0m\u001b[0;34m)\u001b[0m\u001b[0;34m\u001b[0m\u001b[0m\n\u001b[0m\u001b[1;32m      3\u001b[0m \u001b[0mlyrics_1\u001b[0m \u001b[0;34m=\u001b[0m \u001b[0mlyrics\u001b[0m\u001b[0;34m.\u001b[0m\u001b[0mstrip\u001b[0m\u001b[0;34m(\u001b[0m\u001b[0;34m)\u001b[0m\u001b[0;34m\u001b[0m\u001b[0m\n\u001b[1;32m      4\u001b[0m \u001b[0;32mprint\u001b[0m \u001b[0mlyrics_1\u001b[0m\u001b[0;34m\u001b[0m\u001b[0m\n",
      "\u001b[0;32m<ipython-input-81-a1b5d00b82d2>\u001b[0m in \u001b[0;36mscrape_lyrics\u001b[0;34m(urls)\u001b[0m\n\u001b[1;32m      1\u001b[0m \u001b[0;32mdef\u001b[0m \u001b[0mscrape_lyrics\u001b[0m\u001b[0;34m(\u001b[0m\u001b[0murls\u001b[0m\u001b[0;34m)\u001b[0m\u001b[0;34m:\u001b[0m\u001b[0;34m\u001b[0m\u001b[0m\n\u001b[1;32m      2\u001b[0m \u001b[0;34m\u001b[0m\u001b[0m\n\u001b[0;32m----> 3\u001b[0;31m     \u001b[0mresponse\u001b[0m \u001b[0;34m=\u001b[0m \u001b[0mrequests\u001b[0m\u001b[0;34m.\u001b[0m\u001b[0mget\u001b[0m\u001b[0;34m(\u001b[0m\u001b[0murls\u001b[0m\u001b[0;34m)\u001b[0m\u001b[0;34m\u001b[0m\u001b[0m\n\u001b[0m\u001b[1;32m      4\u001b[0m     \u001b[0mhtml\u001b[0m \u001b[0;34m=\u001b[0m \u001b[0mresponse\u001b[0m\u001b[0;34m.\u001b[0m\u001b[0mtext\u001b[0m\u001b[0;34m\u001b[0m\u001b[0m\n\u001b[1;32m      5\u001b[0m \u001b[0;34m\u001b[0m\u001b[0m\n",
      "\u001b[0;32m/Users/PALMER/anaconda/lib/python2.7/site-packages/requests/api.pyc\u001b[0m in \u001b[0;36mget\u001b[0;34m(url, params, **kwargs)\u001b[0m\n\u001b[1;32m     68\u001b[0m \u001b[0;34m\u001b[0m\u001b[0m\n\u001b[1;32m     69\u001b[0m     \u001b[0mkwargs\u001b[0m\u001b[0;34m.\u001b[0m\u001b[0msetdefault\u001b[0m\u001b[0;34m(\u001b[0m\u001b[0;34m'allow_redirects'\u001b[0m\u001b[0;34m,\u001b[0m \u001b[0mTrue\u001b[0m\u001b[0;34m)\u001b[0m\u001b[0;34m\u001b[0m\u001b[0m\n\u001b[0;32m---> 70\u001b[0;31m     \u001b[0;32mreturn\u001b[0m \u001b[0mrequest\u001b[0m\u001b[0;34m(\u001b[0m\u001b[0;34m'get'\u001b[0m\u001b[0;34m,\u001b[0m \u001b[0murl\u001b[0m\u001b[0;34m,\u001b[0m \u001b[0mparams\u001b[0m\u001b[0;34m=\u001b[0m\u001b[0mparams\u001b[0m\u001b[0;34m,\u001b[0m \u001b[0;34m**\u001b[0m\u001b[0mkwargs\u001b[0m\u001b[0;34m)\u001b[0m\u001b[0;34m\u001b[0m\u001b[0m\n\u001b[0m\u001b[1;32m     71\u001b[0m \u001b[0;34m\u001b[0m\u001b[0m\n\u001b[1;32m     72\u001b[0m \u001b[0;34m\u001b[0m\u001b[0m\n",
      "\u001b[0;32m/Users/PALMER/anaconda/lib/python2.7/site-packages/requests/api.pyc\u001b[0m in \u001b[0;36mrequest\u001b[0;34m(method, url, **kwargs)\u001b[0m\n\u001b[1;32m     54\u001b[0m     \u001b[0;31m# cases, and look like a memory leak in others.\u001b[0m\u001b[0;34m\u001b[0m\u001b[0;34m\u001b[0m\u001b[0m\n\u001b[1;32m     55\u001b[0m     \u001b[0;32mwith\u001b[0m \u001b[0msessions\u001b[0m\u001b[0;34m.\u001b[0m\u001b[0mSession\u001b[0m\u001b[0;34m(\u001b[0m\u001b[0;34m)\u001b[0m \u001b[0;32mas\u001b[0m \u001b[0msession\u001b[0m\u001b[0;34m:\u001b[0m\u001b[0;34m\u001b[0m\u001b[0m\n\u001b[0;32m---> 56\u001b[0;31m         \u001b[0;32mreturn\u001b[0m \u001b[0msession\u001b[0m\u001b[0;34m.\u001b[0m\u001b[0mrequest\u001b[0m\u001b[0;34m(\u001b[0m\u001b[0mmethod\u001b[0m\u001b[0;34m=\u001b[0m\u001b[0mmethod\u001b[0m\u001b[0;34m,\u001b[0m \u001b[0murl\u001b[0m\u001b[0;34m=\u001b[0m\u001b[0murl\u001b[0m\u001b[0;34m,\u001b[0m \u001b[0;34m**\u001b[0m\u001b[0mkwargs\u001b[0m\u001b[0;34m)\u001b[0m\u001b[0;34m\u001b[0m\u001b[0m\n\u001b[0m\u001b[1;32m     57\u001b[0m \u001b[0;34m\u001b[0m\u001b[0m\n\u001b[1;32m     58\u001b[0m \u001b[0;34m\u001b[0m\u001b[0m\n",
      "\u001b[0;32m/Users/PALMER/anaconda/lib/python2.7/site-packages/requests/sessions.pyc\u001b[0m in \u001b[0;36mrequest\u001b[0;34m(self, method, url, params, data, headers, cookies, files, auth, timeout, allow_redirects, proxies, hooks, stream, verify, cert, json)\u001b[0m\n\u001b[1;32m    486\u001b[0m         }\n\u001b[1;32m    487\u001b[0m         \u001b[0msend_kwargs\u001b[0m\u001b[0;34m.\u001b[0m\u001b[0mupdate\u001b[0m\u001b[0;34m(\u001b[0m\u001b[0msettings\u001b[0m\u001b[0;34m)\u001b[0m\u001b[0;34m\u001b[0m\u001b[0m\n\u001b[0;32m--> 488\u001b[0;31m         \u001b[0mresp\u001b[0m \u001b[0;34m=\u001b[0m \u001b[0mself\u001b[0m\u001b[0;34m.\u001b[0m\u001b[0msend\u001b[0m\u001b[0;34m(\u001b[0m\u001b[0mprep\u001b[0m\u001b[0;34m,\u001b[0m \u001b[0;34m**\u001b[0m\u001b[0msend_kwargs\u001b[0m\u001b[0;34m)\u001b[0m\u001b[0;34m\u001b[0m\u001b[0m\n\u001b[0m\u001b[1;32m    489\u001b[0m \u001b[0;34m\u001b[0m\u001b[0m\n\u001b[1;32m    490\u001b[0m         \u001b[0;32mreturn\u001b[0m \u001b[0mresp\u001b[0m\u001b[0;34m\u001b[0m\u001b[0m\n",
      "\u001b[0;32m/Users/PALMER/anaconda/lib/python2.7/site-packages/requests/sessions.pyc\u001b[0m in \u001b[0;36msend\u001b[0;34m(self, request, **kwargs)\u001b[0m\n\u001b[1;32m    601\u001b[0m \u001b[0;34m\u001b[0m\u001b[0m\n\u001b[1;32m    602\u001b[0m         \u001b[0;31m# Get the appropriate adapter to use\u001b[0m\u001b[0;34m\u001b[0m\u001b[0;34m\u001b[0m\u001b[0m\n\u001b[0;32m--> 603\u001b[0;31m         \u001b[0madapter\u001b[0m \u001b[0;34m=\u001b[0m \u001b[0mself\u001b[0m\u001b[0;34m.\u001b[0m\u001b[0mget_adapter\u001b[0m\u001b[0;34m(\u001b[0m\u001b[0murl\u001b[0m\u001b[0;34m=\u001b[0m\u001b[0mrequest\u001b[0m\u001b[0;34m.\u001b[0m\u001b[0murl\u001b[0m\u001b[0;34m)\u001b[0m\u001b[0;34m\u001b[0m\u001b[0m\n\u001b[0m\u001b[1;32m    604\u001b[0m \u001b[0;34m\u001b[0m\u001b[0m\n\u001b[1;32m    605\u001b[0m         \u001b[0;31m# Start time (approximately) of the request\u001b[0m\u001b[0;34m\u001b[0m\u001b[0;34m\u001b[0m\u001b[0m\n",
      "\u001b[0;32m/Users/PALMER/anaconda/lib/python2.7/site-packages/requests/sessions.pyc\u001b[0m in \u001b[0;36mget_adapter\u001b[0;34m(self, url)\u001b[0m\n\u001b[1;32m    683\u001b[0m \u001b[0;34m\u001b[0m\u001b[0m\n\u001b[1;32m    684\u001b[0m         \u001b[0;31m# Nothing matches :-/\u001b[0m\u001b[0;34m\u001b[0m\u001b[0;34m\u001b[0m\u001b[0m\n\u001b[0;32m--> 685\u001b[0;31m         \u001b[0;32mraise\u001b[0m \u001b[0mInvalidSchema\u001b[0m\u001b[0;34m(\u001b[0m\u001b[0;34m\"No connection adapters were found for '%s'\"\u001b[0m \u001b[0;34m%\u001b[0m \u001b[0murl\u001b[0m\u001b[0;34m)\u001b[0m\u001b[0;34m\u001b[0m\u001b[0m\n\u001b[0m\u001b[1;32m    686\u001b[0m \u001b[0;34m\u001b[0m\u001b[0m\n\u001b[1;32m    687\u001b[0m     \u001b[0;32mdef\u001b[0m \u001b[0mclose\u001b[0m\u001b[0;34m(\u001b[0m\u001b[0mself\u001b[0m\u001b[0;34m)\u001b[0m\u001b[0;34m:\u001b[0m\u001b[0;34m\u001b[0m\u001b[0m\n",
      "\u001b[0;31mInvalidSchema\u001b[0m: No connection adapters were found for '0      http://genius.com/Mark-Ronson-Uptown-Funk-lyrics\n1     http://genius.com/Ed-Sheeran-Thinking-Out-Loud...\n2     http://genius.com/Wiz-Khalifa-See-You-Again-ly...\n3         http://genius.com/Fetty-Wap-Trap-Queen-lyrics\n4               http://genius.com/Maroon-5-Sugar-lyrics\n5     http://genius.com/Walk-the-Moon-Shut-Up-and-Da...\n6     http://genius.com/Taylor-Swift-Blank-Space-lyrics\n7             http://genius.com/Silento-Watch-Me-lyrics\n8         http://genius.com/The-Weeknd-Earned-It-lyrics\n9         http://genius.com/The-Weeknd-The-Hills-lyrics\n10             http://genius.com/OMI-Cheerleader-lyrics\n11    http://genius.com/The-Weeknd-Cant-Feel-My-Face...\n12    http://genius.com/Ellie-Goulding-Love-Me-Like-...\n13    http://genius.com/Hozier-Take-Me-to-Church-lyrics\n14      http://genius.com/Taylor-Swift-Bad-Blood-lyrics\n15         http://genius.com/Major-Lazer-Lean-On-lyrics\n16    http://genius.com/Jason-Derulo-Want-to-Want-Me...\n17    http://genius.com/Taylor-Swift-Shake-It-Off-ly...\n18      http://genius.com/Jack-U-Where-Are-u-Now-lyrics\n19    http://genius.com/Rachel-Platten-Fight-Song-ly...\n20               http://genius.com/Fetty-Wap-679-lyrics\n21    http://genius.com/Meghan-Trainor-Lips-Are-Movi...\n22      http://genius.com/Fifth-Harmony-Worth-It-lyrics\n23          http://genius.com/Omarion-Post-to-Be-lyrics\n24    http://genius.com/Andy-Grammer-Honey-Im-Good-l...\n25    http://genius.com/Sam-Smith-Im-Not-the-Only-On...\n26    http://genius.com/Selena-Gomez-Good-for-You-ly...\n27    http://genius.com/Meghan-Trainor-All-About-Tha...\n28          http://genius.com/Taylor-Swift-Style-lyrics\n29         http://genius.com/Drake-Hotline-Bling-lyrics\n                            ...                        \n70           http://genius.com/Vance-Joy-Riptide-lyrics\n71         http://genius.com/Jidenna-Classic-Man-lyrics\n72       http://genius.com/Elle-King-Exs-and-Ohs-lyrics\n73    http://genius.com/Meghan-Trainor-Dear-Future-H...\n74    http://genius.com/Charlie-Puth-Marvin-Gaye-lyrics\n75    http://genius.com/Meghan-Trainor-Like-Im-Gonna...\n76    http://genius.com/Tove-Lo-Habits-Stay-High-lyrics\n77    http://genius.com/James-Newton-Howard-The-Hang...\n78             http://genius.com/OT-Genasis-CoCo-lyrics\n79          http://genius.com/Jessie-J-Bang-Bang-lyrics\n80       http://genius.com/Sam-Smith-Lay-Me-Down-lyrics\n81       http://genius.com/ILoveMakonnen-Tuesday-lyrics\n82    http://genius.com/iLoveMemphis-Hit-the-Quan-ly...\n83    http://genius.com/Macklemore-and-Ryan-Lewis-Do...\n84        http://genius.com/Sam-Hunt-House-Party-lyrics\n85             http://genius.com/Chris-Brown-Ayo-lyrics\n86    http://genius.com/Luke-Bryan-Kick-the-Dust-Up-...\n87          http://genius.com/Big-Sean-Blessings-lyrics\n88        http://genius.com/George-Ezra-Budapest-lyrics\n89              http://genius.com/Sia-Chandelier-lyrics\n90    http://genius.com/Kelly-Clarkson-Heartbeat-Son...\n91             http://genius.com/Ed-Sheeran-Dont-lyrics\n92        http://genius.com/Ella-Henderson-Ghost-lyrics\n93           http://genius.com/Alessia-Cara-Here-lyrics\n94              http://genius.com/Mr-Probz-Waves-lyrics\n95         http://genius.com/Nicky-Jam-El-Perdon-lyrics\n96             http://genius.com/Ne-Yo-She-Knows-lyrics\n97    http://genius.com/One-Direction-Night-Changes-...\n98          http://genius.com/Drake-Back-to-Back-lyrics\n99    http://genius.com/Calvin-Harris-How-Deep-Is-Yo...\nName: urls, dtype: object'"
     ]
    }
   ],
   "source": [
    "\n",
    "\n",
    "print lyrics_1"
   ]
  },
  {
   "cell_type": "code",
   "execution_count": null,
   "metadata": {
    "collapsed": true
   },
   "outputs": [],
   "source": []
  }
 ],
 "metadata": {
  "anaconda-cloud": {},
  "kernelspec": {
   "display_name": "Python [default]",
   "language": "python",
   "name": "python2"
  },
  "language_info": {
   "codemirror_mode": {
    "name": "ipython",
    "version": 2
   },
   "file_extension": ".py",
   "mimetype": "text/x-python",
   "name": "python",
   "nbconvert_exporter": "python",
   "pygments_lexer": "ipython2",
   "version": "2.7.12"
  }
 },
 "nbformat": 4,
 "nbformat_minor": 1
}

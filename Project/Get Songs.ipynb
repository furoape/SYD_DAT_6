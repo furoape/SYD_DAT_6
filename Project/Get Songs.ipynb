{
 "cells": [
  {
   "cell_type": "code",
   "execution_count": 16,
   "metadata": {
    "collapsed": true
   },
   "outputs": [],
   "source": [
    "import pandas as pd"
   ]
  },
  {
   "cell_type": "code",
   "execution_count": 27,
   "metadata": {
    "collapsed": false
   },
   "outputs": [],
   "source": [
    "import requests\n",
    "\n",
    "CLIENT_ACCESS_TOKEN = \"pTXMqwbdkhkROKmtMrxmI0KgAb-TS0CPYk8nCHTq1x70lc42GlvkoN1YJjNOakDW\"\n",
    "\n",
    "BASE_URI = \"https://api.genius.com\"\n",
    "\n",
    "def _get(path, params=None, headers=None):\n",
    "    url = 'http://genius.com/Ed-sheeran-thinking-out-loud-lyrics'\n",
    "    #url = '/'.join([BASE_URI, path])\n",
    "\n",
    "    token = \"Bearer {}\".format(CLIENT_ACCESS_TOKEN)\n",
    "\n",
    "    if headers:\n",
    "        headers['Authorization'] = token\n",
    "    else:\n",
    "        headers = {\"Authorization\": token}\n",
    "\n",
    "    response = requests.get(url=url, params=params, headers=headers)\n",
    "    response.raise_for_status()\n",
    "\n",
    "    return response.json()\n",
    "\n"
   ]
  },
  {
   "cell_type": "code",
   "execution_count": 7,
   "metadata": {
    "collapsed": false
   },
   "outputs": [],
   "source": [
    "def get_artist_songs(artist_id):\n",
    "\n",
    "    current_page = 1\n",
    "    next_page = True\n",
    "    songs = []\n",
    "\n",
    "    while next_page:\n",
    "\n",
    "        path = \"artists/{}/songs/\".format(artist_id)\n",
    "        params = {'page': current_page}\n",
    "        data = _get(path=path, params=params)\n",
    "\n",
    "        page_songs = data['response']['songs']\n",
    "\n",
    "        if page_songs:\n",
    "            songs += page_songs\n",
    "            current_page += 1\n",
    "        else:\n",
    "            next_page = False\n",
    "\n",
    "    return songs"
   ]
  },
  {
   "cell_type": "markdown",
   "metadata": {
    "collapsed": true
   },
   "source": [
    "### To find given song:\n",
    "#### spreadsheet with artist, song title\n",
    "    *spaces as dashes artist_name.replace(' ', '-')\n",
    "    *http://genius.com/\"artist_name\"-\"song_name\"-lyrics\n",
    "    *return data\n",
    "    *add feature - number of unique words\n",
    "    *add feature - repitition\n",
    "    "
   ]
  },
  {
   "cell_type": "code",
   "execution_count": 30,
   "metadata": {
    "collapsed": false
   },
   "outputs": [],
   "source": [
    "from bs4 import BeautifulSoup"
   ]
  },
  {
   "cell_type": "code",
   "execution_count": 34,
   "metadata": {
    "collapsed": true
   },
   "outputs": [],
   "source": [
    "def scrape_lyrics(url):\n",
    "\n",
    "    response = requests.get(url)\n",
    "    html = response.text\n",
    "\n",
    "    soup = BeautifulSoup(html, 'html.parser')\n",
    "\n",
    "    lyrics = soup.find(name=\"lyrics\")\n",
    " \n",
    "\n",
    "    lyrics_text = \", \".join([lyric for lyric in lyrics.stripped_strings])\n",
    "    return lyrics_text"
   ]
  },
  {
   "cell_type": "code",
   "execution_count": 35,
   "metadata": {
    "collapsed": false
   },
   "outputs": [
    {
     "name": "stdout",
     "output_type": "stream",
     "text": [
      "[Verse 1], When your legs don't work like they used to before, And I can't sweep you off of your feet, Will your mouth still remember the taste of my love?, Will your eyes still smile from your cheeks?, And darling I will be loving you till we're seventy, And baby, my heart could still fall as hard at twenty-three, And I'm thinking about how, [Pre-Chorus 1], People fall in love in mysterious ways, Maybe just the touch of a hand, Well me, I fall in love with you every single day, I just wanna tell you I am, [Chorus], So honey, now, take me into your loving arms, Kiss me under the light of a thousand stars, Place your head on my beating heart, I'm thinking out loud, And maybe we found love right where we are, [Verse 2], When my hair's all but gone and my memory fades, And the crowds don't remember my name, When my hands don't play the strings the same way, I know you will still love me the same, Cause honey your soul could never grow old, it's evergreen, And baby, your smile's forever in my mind and memory, And I'm thinking about how, [Pre-Chorus 2], People fall in love in mysterious ways, And maybe it's all part of a plan, Well I'll just keep on making the same mistakes, Hoping that you'll understand, [Chorus], So, baby, now, take me into your loving arms, Kiss me under the light of a thousand stars, Place your head on my beating heart, I'm thinking out loud, And maybe we found love right where we are, [Chorus], So baby, now, take me into your loving arms, Kiss me under the light of a thousand stars, Oh darling, place your head on my beating heart, I'm thinking out loud, That maybe we found love right where we are, Oh baby, we found love right where we are, And we found love right where we are\n"
     ]
    }
   ],
   "source": [
    "url = 'http://genius.com/Ed-sheeran-thinking-out-loud-lyrics'\n",
    "#url = song['url']\n",
    "lyrics = scrape_lyrics(url)\n",
    "print lyrics"
   ]
  },
  {
   "cell_type": "code",
   "execution_count": 45,
   "metadata": {
    "collapsed": false
   },
   "outputs": [
    {
     "name": "stdout",
     "output_type": "stream",
     "text": [
      "[Verse 1], When your legs don't work like they used to before, And I can't sweep you off of your feet, Will your mouth still remember the taste of my love?, Will your eyes still smile from your cheeks?, And darling I will be loving you till we're seventy, And baby, my heart could still fall as hard at twenty-three, And I'm thinking about how, [Pre-Chorus 1], People fall in love in mysterious ways, Maybe just the touch of a hand, Well me, I fall in love with you every single day, I just wanna tell you I am, [Chorus], So honey, now, take me into your loving arms, Kiss me under the light of a thousand stars, Place your head on my beating heart, I'm thinking out loud, And maybe we found love right where we are, [Verse 2], When my hair's all but gone and my memory fades, And the crowds don't remember my name, When my hands don't play the strings the same way, I know you will still love me the same, Cause honey your soul could never grow old, it's evergreen, And baby, your smile's forever in my mind and memory, And I'm thinking about how, [Pre-Chorus 2], People fall in love in mysterious ways, And maybe it's all part of a plan, Well I'll just keep on making the same mistakes, Hoping that you'll understand, [Chorus], So, baby, now, take me into your loving arms, Kiss me under the light of a thousand stars, Place your head on my beating heart, I'm thinking out loud, And maybe we found love right where we are, [Chorus], So baby, now, take me into your loving arms, Kiss me under the light of a thousand stars, Oh darling, place your head on my beating heart, I'm thinking out loud, That maybe we found love right where we are, Oh baby, we found love right where we are, And we found love right where we are\n"
     ]
    }
   ],
   "source": [
    "artist= \n",
    "url = 'http://genius.com/Ed-sheeran-thinking-out-loud-lyrics'\n",
    "#url = song['url']\n",
    "lyrics = scrape_lyrics(url)\n",
    "print lyrics"
   ]
  },
  {
   "cell_type": "code",
   "execution_count": 20,
   "metadata": {
    "collapsed": false
   },
   "outputs": [],
   "source": [
    "Songs15 = pd.read_csv('Songs_2015.csv')"
   ]
  },
  {
   "cell_type": "code",
   "execution_count": 21,
   "metadata": {
    "collapsed": false
   },
   "outputs": [
    {
     "data": {
      "text/html": [
       "<div>\n",
       "<table border=\"1\" class=\"dataframe\">\n",
       "  <thead>\n",
       "    <tr style=\"text-align: right;\">\n",
       "      <th></th>\n",
       "      <th>1</th>\n",
       "    </tr>\n",
       "  </thead>\n",
       "  <tbody>\n",
       "    <tr>\n",
       "      <th>count</th>\n",
       "      <td>99.000000</td>\n",
       "    </tr>\n",
       "    <tr>\n",
       "      <th>mean</th>\n",
       "      <td>51.000000</td>\n",
       "    </tr>\n",
       "    <tr>\n",
       "      <th>std</th>\n",
       "      <td>28.722813</td>\n",
       "    </tr>\n",
       "    <tr>\n",
       "      <th>min</th>\n",
       "      <td>2.000000</td>\n",
       "    </tr>\n",
       "    <tr>\n",
       "      <th>25%</th>\n",
       "      <td>26.500000</td>\n",
       "    </tr>\n",
       "    <tr>\n",
       "      <th>50%</th>\n",
       "      <td>51.000000</td>\n",
       "    </tr>\n",
       "    <tr>\n",
       "      <th>75%</th>\n",
       "      <td>75.500000</td>\n",
       "    </tr>\n",
       "    <tr>\n",
       "      <th>max</th>\n",
       "      <td>100.000000</td>\n",
       "    </tr>\n",
       "  </tbody>\n",
       "</table>\n",
       "</div>"
      ],
      "text/plain": [
       "                1\n",
       "count   99.000000\n",
       "mean    51.000000\n",
       "std     28.722813\n",
       "min      2.000000\n",
       "25%     26.500000\n",
       "50%     51.000000\n",
       "75%     75.500000\n",
       "max    100.000000"
      ]
     },
     "execution_count": 21,
     "metadata": {},
     "output_type": "execute_result"
    }
   ],
   "source": [
    "Songs15.describe()"
   ]
  },
  {
   "cell_type": "code",
   "execution_count": 43,
   "metadata": {
    "collapsed": false
   },
   "outputs": [
    {
     "name": "stdout",
     "output_type": "stream",
     "text": [
      "8\n"
     ]
    }
   ],
   "source": [
    "import nltk\n",
    "\n",
    "#stop_words = set(nltk.corpus.stopwords.words('english'))\n",
    "#stop_words.update(['.', ',', '\"', \"'\", '?', '!', ':', ';', '(', ')', '[', ']', '{', '}', '/']) \n",
    "\n",
    "all_tokens = nltk.word_tokenize(lyrics)\n",
    "all_tokens = [token.lower() for token in all_tokens if token.lower() not in stop_words]\n",
    "fdist = nltk.FreqDist(all_tokens)\n",
    "print sum([fdist[word] for word in lyrics])"
   ]
  },
  {
   "cell_type": "code",
   "execution_count": 44,
   "metadata": {
    "collapsed": false
   },
   "outputs": [
    {
     "data": {
      "image/png": "[encoded data removed]",
      "text/plain": [
       "<matplotlib.figure.Figure at 0x11ef5c950>"
      ]
     },
     "metadata": {},
     "output_type": "display_data"
    }
   ],
   "source": [
    "\n",
    "fdist.plot(10)"
   ]
  },
  {
   "cell_type": "code",
   "execution_count": null,
   "metadata": {
    "collapsed": true
   },
   "outputs": [],
   "source": []
  }
 ],
 "metadata": {
  "anaconda-cloud": {},
  "kernelspec": {
   "display_name": "Python [default]",
   "language": "python",
   "name": "python2"
  },
  "language_info": {
   "codemirror_mode": {
    "name": "ipython",
    "version": 2
   },
   "file_extension": ".py",
   "mimetype": "text/x-python",
   "name": "python",
   "nbconvert_exporter": "python",
   "pygments_lexer": "ipython2",
   "version": "2.7.12"
  }
 },
 "nbformat": 4,
 "nbformat_minor": 1
}

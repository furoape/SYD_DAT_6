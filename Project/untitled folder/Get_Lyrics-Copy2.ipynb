{
 "cells": [
  {
   "cell_type": "code",
   "execution_count": 3,
   "metadata": {
    "collapsed": true
   },
   "outputs": [],
   "source": [
    "#Setup packages\n",
    "import pandas as pd\n",
    "import pip\n",
    "import urllib\n",
    "import requests\n",
    "from bs4 import BeautifulSoup as bs"
   ]
  },
  {
   "cell_type": "code",
   "execution_count": 2,
   "metadata": {
    "collapsed": false
   },
   "outputs": [
    {
     "ename": "IndentationError",
     "evalue": "unexpected indent (<ipython-input-2-cfd696eea05b>, line 7)",
     "output_type": "error",
     "traceback": [
      "\u001b[0;36m  File \u001b[0;32m\"<ipython-input-2-cfd696eea05b>\"\u001b[0;36m, line \u001b[0;32m7\u001b[0m\n\u001b[0;31m    token = \"Bearer {}\".format(CLIENT_ACCESS_TOKEN)\u001b[0m\n\u001b[0m    ^\u001b[0m\n\u001b[0;31mIndentationError\u001b[0m\u001b[0;31m:\u001b[0m unexpected indent\n"
     ]
    }
   ],
   "source": [
    "#Genius API setup\n",
    "CLIENT_ACCESS_TOKEN = \"pTXMqwbdkhkROKmtMrxmI0KgAb-TS0CPYk8nCHTq1x70lc42GlvkoN1YJjNOakDW\"\n",
    "\n",
    "#def _get(path, params=None, headers=None):\n",
    "    #url = s15_url.urls\n",
    "\n",
    "    token = \"Bearer {}\".format(CLIENT_ACCESS_TOKEN)\n",
    "\n",
    "    if headers:\n",
    "        headers['Authorization'] = token\n",
    "    else:\n",
    "        headers = {\"Authorization\": token}\n",
    "\n",
    "    response = requests.get(url=url, params=params, headers=headers)\n",
    "    response.raise_for_status()\n",
    "\n",
    "    return response.json()"
   ]
  },
  {
   "cell_type": "code",
   "execution_count": 4,
   "metadata": {
    "collapsed": false
   },
   "outputs": [],
   "source": [
    "def scrape_lyrics(url):\n",
    "\n",
    "    response = requests.get(url)\n",
    "    html = response.text\n",
    "\n",
    "    soup = bs(html, 'html.parser')\n",
    "\n",
    "    lyrics = soup.find(name=\"lyrics\")\n",
    "    \n",
    "    lyrics_text = \" / \".join([lyric for lyric in lyrics.stripped_strings])\n",
    "    return lyrics_text"
   ]
  },
  {
   "cell_type": "code",
   "execution_count": 6,
   "metadata": {
    "collapsed": false
   },
   "outputs": [
    {
     "name": "stdout",
     "output_type": "stream",
     "text": [
      "0     http://genius.com/Mark-Ronson-Uptown-Funk-lyrics\n",
      "1    http://genius.com/Ed-Sheeran-Thinking-Out-Loud...\n",
      "2    http://genius.com/Wiz-Khalifa-See-You-Again-ly...\n",
      "3        http://genius.com/Fetty-Wap-Trap-Queen-lyrics\n",
      "4              http://genius.com/Maroon-5-Sugar-lyrics\n",
      "Name: urls, dtype: object\n"
     ]
    }
   ],
   "source": [
    "#Import songs data from CSV\n",
    "song_cols = ['rank', 'songname', 'artist', 'urls']\n",
    "s15_url = pd.read_csv('s15_url_samp.csv', header=None, names=song_cols)\n",
    "print s15_url.urls"
   ]
  },
  {
   "cell_type": "code",
   "execution_count": 7,
   "metadata": {
    "collapsed": false
   },
   "outputs": [
    {
     "name": "stdout",
     "output_type": "stream",
     "text": [
      "0     http://genius.com/Mark-Ronson-Uptown-Funk-lyrics\n",
      "1    http://genius.com/Ed-Sheeran-Thinking-Out-Loud...\n",
      "2    http://genius.com/Wiz-Khalifa-See-You-Again-ly...\n",
      "3        http://genius.com/Fetty-Wap-Trap-Queen-lyrics\n",
      "4              http://genius.com/Maroon-5-Sugar-lyrics\n",
      "Name: url, dtype: object\n"
     ]
    }
   ],
   "source": [
    "urlt = pd.Series(s15_url.urls, name='url')\n",
    "print urlt"
   ]
  },
  {
   "cell_type": "code",
   "execution_count": 8,
   "metadata": {
    "collapsed": false
   },
   "outputs": [
    {
     "name": "stdout",
     "output_type": "stream",
     "text": [
      "http://genius.com/Mark-Ronson-Uptown-Funk-lyrics\n",
      "http://genius.com/Ed-Sheeran-Thinking-Out-Loud-lyrics\n",
      "http://genius.com/Wiz-Khalifa-See-You-Again-lyrics\n",
      "http://genius.com/Fetty-Wap-Trap-Queen-lyrics\n",
      "http://genius.com/Maroon-5-Sugar-lyrics\n"
     ]
    }
   ],
   "source": [
    "for url in urlt:\n",
    "    print url"
   ]
  },
  {
   "cell_type": "code",
   "execution_count": null,
   "metadata": {
    "collapsed": false
   },
   "outputs": [],
   "source": []
  },
  {
   "cell_type": "code",
   "execution_count": 9,
   "metadata": {
    "collapsed": false
   },
   "outputs": [
    {
     "name": "stdout",
     "output_type": "stream",
     "text": [
      "[]\n"
     ]
    }
   ],
   "source": [
    "lyrics_raw =[]\n",
    "print lyrics_raw"
   ]
  },
  {
   "cell_type": "code",
   "execution_count": 10,
   "metadata": {
    "collapsed": false
   },
   "outputs": [],
   "source": [
    "#urls = 'http://genius.com/Mark-ronson-uptown-funk-lyrics'\n",
    "#print url"
   ]
  },
  {
   "cell_type": "code",
   "execution_count": 10,
   "metadata": {
    "collapsed": false
   },
   "outputs": [
    {
     "name": "stdout",
     "output_type": "stream",
     "text": [
      "0     http://genius.com/Mark-Ronson-Uptown-Funk-lyrics\n",
      "1    http://genius.com/Ed-Sheeran-Thinking-Out-Loud...\n",
      "2    http://genius.com/Wiz-Khalifa-See-You-Again-ly...\n",
      "3        http://genius.com/Fetty-Wap-Trap-Queen-lyrics\n",
      "4              http://genius.com/Maroon-5-Sugar-lyrics\n",
      "Name: urls, dtype: object\n"
     ]
    }
   ],
   "source": [
    "url = s15_url.urls\n",
    "print url"
   ]
  },
  {
   "cell_type": "code",
   "execution_count": 11,
   "metadata": {
    "collapsed": false
   },
   "outputs": [],
   "source": [
    "for url in urlt:\n",
    "    lyrics = scrape_lyrics(url)\n",
    "    lyrics_raw.append(lyrics)\n",
    "    \n",
    "    #s15_url['lyrics_raw1'] = lyrics\n",
    "    "
   ]
  },
  {
   "cell_type": "code",
   "execution_count": 12,
   "metadata": {
    "collapsed": false
   },
   "outputs": [
    {
     "name": "stdout",
     "output_type": "stream",
     "text": [
      "                                                   0\n",
      "0  [Verse 1] / This hit, that ice cold / Michelle...\n",
      "1  [Verse 1] / When your legs don't work like the...\n",
      "2  [Chorus: Charlie Puth] / It's been a long day ...\n",
      "3  [Intro] / RGF productions / Remy Boyz, yeaahhh...\n",
      "4  [Directed by David Dobkin] / [Verse 1] / I'm h...\n"
     ]
    }
   ],
   "source": [
    "lyrics_raw_df = pd.DataFrame(lyrics_raw)\n",
    "print lyrics_raw_df"
   ]
  },
  {
   "cell_type": "code",
   "execution_count": 9,
   "metadata": {
    "collapsed": false
   },
   "outputs": [
    {
     "name": "stdout",
     "output_type": "stream",
     "text": [
      "[Directed by David Dobkin] / [Verse 1] / I'm hurting baby, I'm broken down / I need your loving, loving I need it now / When I'm without you, I'm something weak / You got me begging, begging I'm on my knees / [Pre-Chorus] / I don't wanna be needing your love / I just wanna be deep in your love / And it's killing me when you're away / Ooh baby / Cause I really don't care where you are / I just wanna be there where you are / And I gotta get one little taste / [Chorus] / Sugar, yes please / Would you come and put it down on me? / I'm right here, cause I need / Little love, a little sympathy / Yeah you show me good loving, make it alright / Need a little sweetness in my life / Your sugar, yes please / Would you come and put it down on me? / [Verse 2] / Babe, my broken pieces, you pick them up / Don't leave me hanging, hanging come give me some / When I'm without you, I'm so insecure / You are the one thing, one thing I'm living for / [Pre-Chorus] / I don't wanna be needing your love / I just wanna be deep in your love / And it's killing me when you're away / Ooh baby / Cause I really don't care where you are / I just wanna be there where you are / And I gotta get one little taste / [Chorus] / Sugar, yes please / Would you come and put it down on me? / I'm right here, cause I need / Little love, a little sympathy / Yeah you show me good loving, make it alright / Need a little sweetness in my life / Your sugar, yes please / Would you come and put it down on me? / [Bridge] / I want that red velvet / I want that sugar sweet / Don't let nobody touch it unless that somebody's me / I gotta be a man, there ain't no other way / Cause girl you're hotter than a Southern California day / Never wanna play no games, you don't gotta  be afraid / Don't give me all that shy shit / No makeup on, that's my sugar / [Chorus] / Sugar, yes please / Would you come and put it down on me? / I'm right here, cause I need / Little love, a little sympathy / Yeah you show me good loving, make it alright / Need a little sweetness in my life / Your sugar, yes please / Would you come and put it down on me? / [Chorus] / Sugar, yes please / Would you come and put it down on me? / I'm right here, cause I need / Little love, a little sympathy / Yeah you show me good loving, make it alright / Need a little sweetness in my life / Your sugar, yes please / Would you come and put it down on me?\n"
     ]
    }
   ],
   "source": [
    "\n",
    "\n",
    "print lyrics"
   ]
  },
  {
   "cell_type": "code",
   "execution_count": null,
   "metadata": {
    "collapsed": true
   },
   "outputs": [],
   "source": []
  }
 ],
 "metadata": {
  "anaconda-cloud": {},
  "kernelspec": {
   "display_name": "Python [default]",
   "language": "python",
   "name": "python2"
  },
  "language_info": {
   "codemirror_mode": {
    "name": "ipython",
    "version": 2
   },
   "file_extension": ".py",
   "mimetype": "text/x-python",
   "name": "python",
   "nbconvert_exporter": "python",
   "pygments_lexer": "ipython2",
   "version": "2.7.12"
  }
 },
 "nbformat": 4,
 "nbformat_minor": 1
}

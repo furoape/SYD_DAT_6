{
 "cells": [
  {
   "cell_type": "code",
   "execution_count": 160,
   "metadata": {
    "collapsed": false
   },
   "outputs": [],
   "source": [
    "import pandas as pd\n",
    "import pip\n",
    "import urllib\n",
    "import requests\n",
    "from bs4 import BeautifulSoup as bs"
   ]
  },
  {
   "cell_type": "code",
   "execution_count": 161,
   "metadata": {
    "collapsed": true
   },
   "outputs": [],
   "source": [
    "s2015 = pd.read_csv ('Songs2015.csv', index_col=1)"
   ]
  },
  {
   "cell_type": "code",
   "execution_count": 162,
   "metadata": {
    "collapsed": false
   },
   "outputs": [],
   "source": [
    "CLIENT_ACCESS_TOKEN = \"pTXMqwbdkhkROKmtMrxmI0KgAb-TS0CPYk8nCHTq1x70lc42GlvkoN1YJjNOakDW\"\n",
    "\n",
    "BASE_URI = \"https://api.genius.com\"\n",
    "\n",
    "def _get(path, params=None, headers=None):\n",
    "    url = 'http://genius.com/Ed-sheeran-thinking-out-loud-lyrics'\n",
    "    #url = '/'.join([BASE_URI, path])\n",
    "\n",
    "    token = \"Bearer {}\".format(CLIENT_ACCESS_TOKEN)\n",
    "\n",
    "    if headers:\n",
    "        headers['Authorization'] = token\n",
    "    else:\n",
    "        headers = {\"Authorization\": token}\n",
    "\n",
    "    response = requests.get(url=url, params=params, headers=headers)\n",
    "    response.raise_for_status()\n",
    "\n",
    "    return response.json()\n",
    "\n"
   ]
  },
  {
   "cell_type": "code",
   "execution_count": 163,
   "metadata": {
    "collapsed": false
   },
   "outputs": [],
   "source": [
    "def get_artist_songs(artist_id):\n",
    "\n",
    "    current_page = 1\n",
    "    next_page = True\n",
    "    songs = []\n",
    "\n",
    "    while next_page:\n",
    "\n",
    "        path = \"artists/{}/songs/\".format(artist_id)\n",
    "        params = {'page': current_page}\n",
    "        data = _get(path=path, params=params)\n",
    "\n",
    "        page_songs = data['response']['songs']\n",
    "\n",
    "        if page_songs:\n",
    "            songs += page_songs\n",
    "            current_page += 1\n",
    "        else:\n",
    "            next_page = False\n",
    "\n",
    "    return songs"
   ]
  },
  {
   "cell_type": "markdown",
   "metadata": {
    "collapsed": true
   },
   "source": [
    "### To find given song:\n",
    "#### spreadsheet with artist, song title\n",
    "    *spaces as dashes artist_name.replace(' ', '-')\n",
    "    *http://genius.com/\"artist_name\"-\"song_name\"-lyrics\n",
    "    *return data\n",
    "    *add feature - number of unique words\n",
    "    *add feature - repitition\n",
    "    "
   ]
  },
  {
   "cell_type": "code",
   "execution_count": 164,
   "metadata": {
    "collapsed": true
   },
   "outputs": [],
   "source": [
    "def scrape_lyrics(url):\n",
    "\n",
    "    response = requests.get(url)\n",
    "    html = response.text\n",
    "\n",
    "    soup = bs(html, 'html.parser')\n",
    "\n",
    "    lyrics = soup.find(name=\"lyrics\")\n",
    " \n",
    "\n",
    "    lyrics_text = \", \".join([lyric for lyric in lyrics.stripped_strings])\n",
    "    return lyrics_text"
   ]
  },
  {
   "cell_type": "code",
   "execution_count": 172,
   "metadata": {
    "collapsed": false
   },
   "outputs": [
    {
     "name": "stdout",
     "output_type": "stream",
     "text": [
      "[Verse 1], When your legs don't work like they used to before, And I can't sweep you off of your feet, Will your mouth still remember the taste of my love?, Will your eyes still smile from your cheeks?, And darling I will be loving you till we're seventy, And baby, my heart could still fall as hard at twenty-three, And I'm thinking about how, [Pre-Chorus 1], People fall in love in mysterious ways, Maybe just the touch of a hand, Well me, I fall in love with you every single day, I just wanna tell you I am, [Chorus], So honey, now, take me into your loving arms, Kiss me under the light of a thousand stars, Place your head on my beating heart, I'm thinking out loud, And maybe we found love right where we are, [Verse 2], When my hair's all but gone and my memory fades, And the crowds don't remember my name, When my hands don't play the strings the same way, I know you will still love me the same, Cause honey your soul could never grow old, it's evergreen, And baby, your smile's forever in my mind and memory, And I'm thinking about how, [Pre-Chorus 2], People fall in love in mysterious ways, And maybe it's all part of a plan, Well I'll just keep on making the same mistakes, Hoping that you'll understand, [Chorus], So, baby, now, take me into your loving arms, Kiss me under the light of a thousand stars, Place your head on my beating heart, I'm thinking out loud, And maybe we found love right where we are, [Chorus], So baby, now, take me into your loving arms, Kiss me under the light of a thousand stars, Oh darling, place your head on my beating heart, I'm thinking out loud, That maybe we found love right where we are, Oh baby, we found love right where we are, And we found love right where we are\n"
     ]
    }
   ],
   "source": [
    "songname = 'thinking-out-loud'\n",
    "artist = 'Ed-sheeran'\n",
    "\n",
    "url = 'http://genius.com/{0}-{1}-lyrics'.format(artist,songname)\n",
    "#url = 'http://genius.com/' 'Ed-sheeran' '-' 'thinking-out-loud' '-lyrics'\n",
    "#url = song['url']\n",
    "lyrics = scrape_lyrics(url)\n",
    "print lyrics"
   ]
  },
  {
   "cell_type": "code",
   "execution_count": 166,
   "metadata": {
    "collapsed": false,
    "scrolled": true
   },
   "outputs": [
    {
     "name": "stdout",
     "output_type": "stream",
     "text": [
      "                          1                Mark-Ronson\n",
      "Uptown-Funk                                           \n",
      "Thinking-Out-Loud         2                 Ed-Sheeran\n",
      "See-You-Again             3                Wiz-Khalifa\n",
      "Trap-Queen                4                  Fetty-Wap\n",
      "Sugar                     5                   Maroon-5\n",
      "Shut-Up-and-Dance         6              Walk-the-Moon\n",
      "Blank-Space               7               Taylor-Swift\n",
      "Watch-Me                  8                    Silento\n",
      "Earned-It                 9                 The-Weeknd\n",
      "The-Hills                10                 The-Weeknd\n",
      "Cheerleader              11                        OMI\n",
      "Cant-Feel-My-Face        12                 The-Weeknd\n",
      "Love-Me-Like-You-Do      13             Ellie-Goulding\n",
      "Take-Me-to-Church        14                     Hozier\n",
      "Bad-Blood                15               Taylor-Swift\n",
      "Lean-On                  16                Major-Lazer\n",
      "Want-to-Want-Me          17               Jason-Derulo\n",
      "Shake-It-Off             18               Taylor-Swift\n",
      "Where-Are-u-Now          19                     Jack-U\n",
      "Fight-Song               20             Rachel-Platten\n",
      "679                      21                  Fetty-Wap\n",
      "Lips-Are-Movin           22             Meghan-Trainor\n",
      "Worth-It                 23              Fifth-Harmony\n",
      "Post-to-Be               24                    Omarion\n",
      "Honey-Im-Good            25               Andy-Grammer\n",
      "Im-Not-the-Only-One      26                  Sam-Smith\n",
      "Good-for-You             27               Selena-Gomez\n",
      "All-About-That-Bass      28             Meghan-Trainor\n",
      "Style                    29               Taylor-Swift\n",
      "Hotline-Bling            30                      Drake\n",
      "Hey-Mama                 31               David-Guetta\n",
      "...                     ...                        ...\n",
      "Riptide                  71                  Vance-Joy\n",
      "Classic-Man              72                    Jidenna\n",
      "Exs-and-Ohs              73                  Elle-King\n",
      "Dear-Future-Husband      74             Meghan-Trainor\n",
      "Marvin-Gaye              75               Charlie-Puth\n",
      "Like-Im-Gonna-Lose-You   76             Meghan-Trainor\n",
      "Habits-Stay-High         77                    Tove-Lo\n",
      "The-Hanging-Tree         78        James-Newton-Howard\n",
      "CoCo                     79                 OT-Genasis\n",
      "Bang-Bang                80                   Jessie-J\n",
      "Lay-Me-Down              81                  Sam-Smith\n",
      "Tuesday                  82              ILoveMakonnen\n",
      "Hit-the-Quan             83               iLoveMemphis\n",
      "Downtown                 84  Macklemore-and-Ryan-Lewis\n",
      "House-Party              85                   Sam-Hunt\n",
      "Ayo                      86                Chris-Brown\n",
      "Kick-the-Dust-Up         87                 Luke-Bryan\n",
      "Blessings                88                   Big-Sean\n",
      "Budapest                 89                George-Ezra\n",
      "Chandelier               90                        Sia\n",
      "Heartbeat-Song           91             Kelly-Clarkson\n",
      "Dont                     92                 Ed-Sheeran\n",
      "Ghost                    93             Ella-Henderson\n",
      "Here                     94               Alessia-Cara\n",
      "Waves                    95                   Mr-Probz\n",
      "El-Perdon                96                  Nicky-Jam\n",
      "She-Knows                97                      Ne-Yo\n",
      "Night-Changes            98              One-Direction\n",
      "Back-to-Back             99                      Drake\n",
      "How-Deep-Is-Your-Love   100              Calvin-Harris\n",
      "\n",
      "[99 rows x 2 columns]\n"
     ]
    }
   ],
   "source": [
    "print s2015"
   ]
  },
  {
   "cell_type": "code",
   "execution_count": 167,
   "metadata": {
    "collapsed": true
   },
   "outputs": [],
   "source": [
    "import csv\n",
    "from collections import defaultdict\n",
    "columns = defaultdict(list)"
   ]
  },
  {
   "cell_type": "code",
   "execution_count": 171,
   "metadata": {
    "collapsed": false,
    "scrolled": true
   },
   "outputs": [
    {
     "name": "stdout",
     "output_type": "stream",
     "text": [
      "http://genius.com/Mark-Ronson-Uptown-Funk-lyrics\n",
      "http://genius.com/Ed-Sheeran-Thinking-Out-Loud-lyrics\n",
      "http://genius.com/Wiz-Khalifa-See-You-Again-lyrics\n",
      "http://genius.com/Fetty-Wap-Trap-Queen-lyrics\n",
      "http://genius.com/Maroon-5-Sugar-lyrics\n",
      "http://genius.com/Walk-the-Moon-Shut-Up-and-Dance-lyrics\n",
      "http://genius.com/Taylor-Swift-Blank-Space-lyrics\n",
      "http://genius.com/Silento-Watch-Me-lyrics\n",
      "http://genius.com/The-Weeknd-Earned-It-lyrics\n",
      "http://genius.com/The-Weeknd-The-Hills-lyrics\n",
      "http://genius.com/OMI-Cheerleader-lyrics\n",
      "http://genius.com/The-Weeknd-Cant-Feel-My-Face-lyrics\n",
      "http://genius.com/Ellie-Goulding-Love-Me-Like-You-Do-lyrics\n",
      "http://genius.com/Hozier-Take-Me-to-Church-lyrics\n",
      "http://genius.com/Taylor-Swift-Bad-Blood-lyrics\n",
      "http://genius.com/Major-Lazer-Lean-On-lyrics\n",
      "http://genius.com/Jason-Derulo-Want-to-Want-Me-lyrics\n",
      "http://genius.com/Taylor-Swift-Shake-It-Off-lyrics\n",
      "http://genius.com/Jack-U-Where-Are-u-Now-lyrics\n",
      "http://genius.com/Rachel-Platten-Fight-Song-lyrics\n",
      "http://genius.com/Fetty-Wap-679-lyrics\n",
      "http://genius.com/Meghan-Trainor-Lips-Are-Movin-lyrics\n",
      "http://genius.com/Fifth-Harmony-Worth-It-lyrics\n",
      "http://genius.com/Omarion-Post-to-Be-lyrics\n",
      "http://genius.com/Andy-Grammer-Honey-Im-Good-lyrics\n",
      "http://genius.com/Sam-Smith-Im-Not-the-Only-One-lyrics\n",
      "http://genius.com/Selena-Gomez-Good-for-You-lyrics\n",
      "http://genius.com/Meghan-Trainor-All-About-That-Bass-lyrics\n",
      "http://genius.com/Taylor-Swift-Style-lyrics\n",
      "http://genius.com/Drake-Hotline-Bling-lyrics\n",
      "http://genius.com/David-Guetta-Hey-Mama-lyrics\n",
      "http://genius.com/Flo-Rida-GDFR-lyrics\n",
      "http://genius.com/Justin-Bieber-What-Do-You-Mean-lyrics\n",
      "http://genius.com/Ed-Sheeran-Photograph-lyrics\n",
      "http://genius.com/Adele-Hello-lyrics\n",
      "http://genius.com/Shawn-Mendes-Stitches-lyrics\n",
      "http://genius.com/Tove-Lo-Talking-Body-lyrics\n",
      "http://genius.com/Nick-Jonas-Jealous-lyrics\n",
      "http://genius.com/Pitbull-and-Ne-Yo-Time-of-Our-Lives-lyrics\n",
      "http://genius.com/R-City-Locked-Away-lyrics\n",
      "http://genius.com/Natalie-La-Rose-Somebody-lyrics\n",
      "http://genius.com/Rihanna-FourFiveSeconds-lyrics\n",
      "http://genius.com/Fall-Out-Boy-Centuries-lyrics\n",
      "http://genius.com/Fetty-Wap-My-Way-lyrics\n",
      "http://genius.com/Sam-Hunt-Take-Your-Time-lyrics\n",
      "http://genius.com/Maroon-5-Animals-lyrics\n",
      "http://genius.com/Big-Sean-I-Dont-Fuck-with-You-lyrics\n",
      "http://genius.com/Rihanna-Bitch-Better-Have-My-Money-lyrics\n",
      "http://genius.com/Rich-Homie-Quan-Flex-Ooh-Ooh-Ooh-lyrics\n",
      "http://genius.com/T-Wayne-Nasty-Freestyle-lyrics\n",
      "http://genius.com/Nicki-Minaj-Only-lyrics\n",
      "http://genius.com/Sia-Elastic-Heart-lyrics\n",
      "http://genius.com/Demi-Lovato-Cool-for-the-Summer-lyrics\n",
      "http://genius.com/X-Ambassadors-Renegades-lyrics\n",
      "http://genius.com/Usher-I-Dont-Mind-lyrics\n",
      "http://genius.com/Ariana-Grande-Love-Me-Harder-lyrics\n",
      "http://genius.com/Taylor-Swift-Wildest-Dreams-lyrics\n",
      "http://genius.com/Sam-Smith-Stay-with-Me-lyrics\n",
      "http://genius.com/DJ-Snake-You-Know-You-Like-It-lyrics\n",
      "http://genius.com/Fall-Out-Boy-Uma-Thurman-lyrics\n",
      "http://genius.com/Beyonce-7-11-lyrics\n",
      "http://genius.com/Selena-Gomez-The-Heart-Wants-What-It-Wants-lyrics\n",
      "http://genius.com/Little-Big-Town-Girl-Crush-lyrics\n",
      "http://genius.com/Trey-Songz-Slow-Motion-lyrics\n",
      "http://genius.com/One-Direction-Drag-Me-Down-lyrics\n",
      "http://genius.com/Nicki-Minaj-Truffle-Butter-lyrics\n",
      "http://genius.com/Ariana-Grande-One-Last-Time-lyrics\n",
      "http://genius.com/Nick-Jonas-Chains-lyrics\n",
      "http://genius.com/Meek-Mill-All-Eyes-on-You-lyrics\n",
      "http://genius.com/Rae-Sremmurd-No-Type-lyrics\n",
      "http://genius.com/Vance-Joy-Riptide-lyrics\n",
      "http://genius.com/Jidenna-Classic-Man-lyrics\n",
      "http://genius.com/Elle-King-Exs-and-Ohs-lyrics\n",
      "http://genius.com/Meghan-Trainor-Dear-Future-Husband-lyrics\n",
      "http://genius.com/Charlie-Puth-Marvin-Gaye-lyrics\n",
      "http://genius.com/Meghan-Trainor-Like-Im-Gonna-Lose-You-lyrics\n",
      "http://genius.com/Tove-Lo-Habits-Stay-High-lyrics\n",
      "http://genius.com/James-Newton-Howard-The-Hanging-Tree-lyrics\n",
      "http://genius.com/OT-Genasis-CoCo-lyrics\n",
      "http://genius.com/Jessie-J-Bang-Bang-lyrics\n",
      "http://genius.com/Sam-Smith-Lay-Me-Down-lyrics\n",
      "http://genius.com/ILoveMakonnen-Tuesday-lyrics\n",
      "http://genius.com/iLoveMemphis-Hit-the-Quan-lyrics\n",
      "http://genius.com/Macklemore-and-Ryan-Lewis-Downtown-lyrics\n",
      "http://genius.com/Sam-Hunt-House-Party-lyrics\n",
      "http://genius.com/Chris-Brown-Ayo-lyrics\n",
      "http://genius.com/Luke-Bryan-Kick-the-Dust-Up-lyrics\n",
      "http://genius.com/Big-Sean-Blessings-lyrics\n",
      "http://genius.com/George-Ezra-Budapest-lyrics\n",
      "http://genius.com/Sia-Chandelier-lyrics\n",
      "http://genius.com/Kelly-Clarkson-Heartbeat-Song-lyrics\n",
      "http://genius.com/Ed-Sheeran-Dont-lyrics\n",
      "http://genius.com/Ella-Henderson-Ghost-lyrics\n",
      "http://genius.com/Alessia-Cara-Here-lyrics\n",
      "http://genius.com/Mr-Probz-Waves-lyrics\n",
      "http://genius.com/Nicky-Jam-El-Perdon-lyrics\n",
      "http://genius.com/Ne-Yo-She-Knows-lyrics\n",
      "http://genius.com/One-Direction-Night-Changes-lyrics\n",
      "http://genius.com/Drake-Back-to-Back-lyrics\n",
      "http://genius.com/Calvin-Harris-How-Deep-Is-Your-Love-lyrics\n"
     ]
    }
   ],
   "source": [
    "with open('Songs2015.csv') as csvfile:\n",
    "    readCSV = csv.reader(csvfile, delimiter=',')\n",
    "    artists = []\n",
    "    songnames = []\n",
    "    for row in readCSV:\n",
    "        artist = row[2]\n",
    "        songname = row[1]\n",
    "        \n",
    "        artists.append(artist)\n",
    "        songnames.append(songname)\n",
    "\n",
    "        url = 'http://genius.com/{0}-{1}-lyrics'.format(artist,songname)\n",
    "        #lyrics = scrape_lyrics(url)\n",
    "        print url"
   ]
  },
  {
   "cell_type": "code",
   "execution_count": null,
   "metadata": {
    "collapsed": true
   },
   "outputs": [],
   "source": [
    "\n",
    "\n",
    "\n",
    "df = pd.read_csv('path/to/csv.csv', delimiter='\\t')\n",
    "# this line creates a new column, which is a Pandas series.\n",
    "new_column = df['AUTOWOGEN'] + 1\n",
    "# we then add the series to the dataframe, which holds our parsed CSV file\n",
    "df['NewColumn'] = new_column\n",
    "# save the dataframe to CSV\n",
    "#df.to_csv('path/to/file.csv', sep='\\t')"
   ]
  },
  {
   "cell_type": "code",
   "execution_count": 59,
   "metadata": {
    "collapsed": false
   },
   "outputs": [
    {
     "name": "stdout",
     "output_type": "stream",
     "text": [
      "<closed file 'Songs2015.csv', mode 'r' at 0x1199b8c00>\n"
     ]
    }
   ],
   "source": [
    "print csvfile"
   ]
  },
  {
   "cell_type": "code",
   "execution_count": 133,
   "metadata": {
    "collapsed": false
   },
   "outputs": [
    {
     "ename": "IndentationError",
     "evalue": "unexpected indent (<ipython-input-133-dda44d1566db>, line 6)",
     "output_type": "error",
     "traceback": [
      "\u001b[0;36m  File \u001b[0;32m\"<ipython-input-133-dda44d1566db>\"\u001b[0;36m, line \u001b[0;32m6\u001b[0m\n\u001b[0;31m    url = 'http://genius.com/{0}-{1}-lyrics'.format(artist,songname)\u001b[0m\n\u001b[0m    ^\u001b[0m\n\u001b[0;31mIndentationError\u001b[0m\u001b[0;31m:\u001b[0m unexpected indent\n"
     ]
    }
   ],
   "source": [
    "\n",
    "\n",
    "\n",
    "\n",
    "\n",
    "    url = 'http://genius.com/{0}-{1}-lyrics'.format(artist,songname)\n",
    "#url = 'http://genius.com/' 'Ed-sheeran' '-' 'thinking-out-loud' '-lyrics'\n",
    "#url = song['url']\n",
    "    lyrics = scrape_lyrics(url)\n",
    "    #print lyrics"
   ]
  },
  {
   "cell_type": "code",
   "execution_count": 158,
   "metadata": {
    "collapsed": false
   },
   "outputs": [],
   "source": [
    "song_cols = ['rank', 'songname', 'artist']\n",
    "s15 = pd.read_csv('Songs2015.csv', header=None, names=song_cols,)"
   ]
  },
  {
   "cell_type": "code",
   "execution_count": null,
   "metadata": {
    "collapsed": false
   },
   "outputs": [],
   "source": []
  },
  {
   "cell_type": "code",
   "execution_count": 157,
   "metadata": {
    "collapsed": false
   },
   "outputs": [
    {
     "name": "stdout",
     "output_type": "stream",
     "text": [
      "                                                 0   \\\n",
      "0  http://genius.com/Mark-Ronson-Uptown-Funk-lyrics   \n",
      "\n",
      "                                                  1   \\\n",
      "0  http://genius.com/Ed-Sheeran-Thinking-Out-Loud...   \n",
      "\n",
      "                                                  2   \\\n",
      "0  http://genius.com/Wiz-Khalifa-See-You-Again-ly...   \n",
      "\n",
      "                                              3   \\\n",
      "0  http://genius.com/Fetty-Wap-Trap-Queen-lyrics   \n",
      "\n",
      "                                        4   \\\n",
      "0  http://genius.com/Maroon-5-Sugar-lyrics   \n",
      "\n",
      "                                                  5   \\\n",
      "0  http://genius.com/Walk-the-Moon-Shut-Up-and-Da...   \n",
      "\n",
      "                                                  6   \\\n",
      "0  http://genius.com/Taylor-Swift-Blank-Space-lyrics   \n",
      "\n",
      "                                          7   \\\n",
      "0  http://genius.com/Silento-Watch-Me-lyrics   \n",
      "\n",
      "                                              8   \\\n",
      "0  http://genius.com/The-Weeknd-Earned-It-lyrics   \n",
      "\n",
      "                                              9   \\\n",
      "0  http://genius.com/The-Weeknd-The-Hills-lyrics   \n",
      "\n",
      "                         ...                          \\\n",
      "0                        ...                           \n",
      "\n",
      "                                                  90  \\\n",
      "0  http://genius.com/Kelly-Clarkson-Heartbeat-Son...   \n",
      "\n",
      "                                         91  \\\n",
      "0  http://genius.com/Ed-Sheeran-Dont-lyrics   \n",
      "\n",
      "                                              92  \\\n",
      "0  http://genius.com/Ella-Henderson-Ghost-lyrics   \n",
      "\n",
      "                                           93  \\\n",
      "0  http://genius.com/Alessia-Cara-Here-lyrics   \n",
      "\n",
      "                                        94  \\\n",
      "0  http://genius.com/Mr-Probz-Waves-lyrics   \n",
      "\n",
      "                                             95  \\\n",
      "0  http://genius.com/Nicky-Jam-El-Perdon-lyrics   \n",
      "\n",
      "                                         96  \\\n",
      "0  http://genius.com/Ne-Yo-She-Knows-lyrics   \n",
      "\n",
      "                                                  97  \\\n",
      "0  http://genius.com/One-Direction-Night-Changes-...   \n",
      "\n",
      "                                            98  \\\n",
      "0  http://genius.com/Drake-Back-to-Back-lyrics   \n",
      "\n",
      "                                                  99  \n",
      "0  http://genius.com/Calvin-Harris-How-Deep-Is-Yo...  \n",
      "\n",
      "[1 rows x 100 columns]\n"
     ]
    }
   ],
   "source": [
    "#print s15\n",
    "url = 'http://genius.com/' + (s15.artist) + '-' + (s15.songname) + '-lyrics'\n",
    "#print url\n",
    "#lyrics = scrape_lyrics(url)\n",
    "#print lyrics\n",
    "urls = pd.DataFrame([url])\n",
    "print urls\n",
    "#s15_url =pd.merge(s15, urls)"
   ]
  },
  {
   "cell_type": "code",
   "execution_count": 25,
   "metadata": {
    "collapsed": false
   },
   "outputs": [
    {
     "name": "stdout",
     "output_type": "stream",
     "text": [
      "                        RANK                     ARTIST\n",
      "SONGNAME                                               \n",
      "Uptown-Funk                1                Mark-Ronson\n",
      "Thinking-Out-Loud          2                 Ed-Sheeran\n",
      "See-You-Again              3                Wiz-Khalifa\n",
      "Trap-Queen                 4                  Fetty-Wap\n",
      "Sugar                      5                   Maroon-5\n",
      "Shut-Up-and-Dance          6              Walk-the-Moon\n",
      "Blank-Space                7               Taylor-Swift\n",
      "Watch-Me                   8                    Silento\n",
      "Earned-It                  9                 The-Weeknd\n",
      "The-Hills                 10                 The-Weeknd\n",
      "Cheerleader               11                        OMI\n",
      "Cant-Feel-My-Face         12                 The-Weeknd\n",
      "Love-Me-Like-You-Do       13             Ellie-Goulding\n",
      "Take-Me-to-Church         14                     Hozier\n",
      "Bad-Blood                 15               Taylor-Swift\n",
      "Lean-On                   16                Major-Lazer\n",
      "Want-to-Want-Me           17               Jason-Derulo\n",
      "Shake-It-Off              18               Taylor-Swift\n",
      "Where-Are-u-Now           19                     Jack-U\n",
      "Fight-Song                20             Rachel-Platten\n",
      "679                       21                  Fetty-Wap\n",
      "Lips-Are-Movin            22             Meghan-Trainor\n",
      "Worth-It                  23              Fifth-Harmony\n",
      "Post-to-Be                24                    Omarion\n",
      "Honey-Im-Good             25               Andy-Grammer\n",
      "Im-Not-the-Only-One       26                  Sam-Smith\n",
      "Good-for-You              27               Selena-Gomez\n",
      "All-About-That-Bass       28             Meghan-Trainor\n",
      "Style                     29               Taylor-Swift\n",
      "Hotline-Bling             30                      Drake\n",
      "...                      ...                        ...\n",
      "Riptide                   71                  Vance-Joy\n",
      "Classic-Man               72                    Jidenna\n",
      "Exs-and-Ohs               73                  Elle-King\n",
      "Dear-Future-Husband       74             Meghan-Trainor\n",
      "Marvin-Gaye               75               Charlie-Puth\n",
      "Like-Im-Gonna-Lose-You    76             Meghan-Trainor\n",
      "Habits-Stay-High          77                    Tove-Lo\n",
      "The-Hanging-Tree          78        James-Newton-Howard\n",
      "CoCo                      79                 OT-Genasis\n",
      "Bang-Bang                 80                   Jessie-J\n",
      "Lay-Me-Down               81                  Sam-Smith\n",
      "Tuesday                   82              ILoveMakonnen\n",
      "Hit-the-Quan              83               iLoveMemphis\n",
      "Downtown                  84  Macklemore-and-Ryan-Lewis\n",
      "House-Party               85                   Sam-Hunt\n",
      "Ayo                       86                Chris-Brown\n",
      "Kick-the-Dust-Up          87                 Luke-Bryan\n",
      "Blessings                 88                   Big-Sean\n",
      "Budapest                  89                George-Ezra\n",
      "Chandelier                90                        Sia\n",
      "Heartbeat-Song            91             Kelly-Clarkson\n",
      "Dont                      92                 Ed-Sheeran\n",
      "Ghost                     93             Ella-Henderson\n",
      "Here                      94               Alessia-Cara\n",
      "Waves                     95                   Mr-Probz\n",
      "El-Perdon                 96                  Nicky-Jam\n",
      "She-Knows                 97                      Ne-Yo\n",
      "Night-Changes             98              One-Direction\n",
      "Back-to-Back              99                      Drake\n",
      "How-Deep-Is-Your-Love    100              Calvin-Harris\n",
      "\n",
      "[100 rows x 2 columns]\n"
     ]
    }
   ],
   "source": []
  },
  {
   "cell_type": "code",
   "execution_count": 43,
   "metadata": {
    "collapsed": false
   },
   "outputs": [
    {
     "name": "stdout",
     "output_type": "stream",
     "text": [
      "8\n"
     ]
    }
   ],
   "source": [
    "import nltk\n",
    "\n",
    "#stop_words = set(nltk.corpus.stopwords.words('english'))\n",
    "#stop_words.update(['.', ',', '\"', \"'\", '?', '!', ':', ';', '(', ')', '[', ']', '{', '}', '/']) \n",
    "\n",
    "all_tokens = nltk.word_tokenize(lyrics)\n",
    "all_tokens = [token.lower() for token in all_tokens if token.lower() not in stop_words]\n",
    "fdist = nltk.FreqDist(all_tokens)\n",
    "print sum([fdist[word] for word in lyrics])"
   ]
  },
  {
   "cell_type": "code",
   "execution_count": 24,
   "metadata": {
    "collapsed": false
   },
   "outputs": [
    {
     "ename": "AttributeError",
     "evalue": "'NoneType' object has no attribute 'stripped_strings'",
     "output_type": "error",
     "traceback": [
      "\u001b[0;31m---------------------------------------------------------------------------\u001b[0m",
      "\u001b[0;31mAttributeError\u001b[0m                            Traceback (most recent call last)",
      "\u001b[0;32m<ipython-input-24-ee52a248e2f0>\u001b[0m in \u001b[0;36m<module>\u001b[0;34m()\u001b[0m\n\u001b[1;32m      5\u001b[0m \u001b[0;31m#soup = bs(r)\u001b[0m\u001b[0;34m\u001b[0m\u001b[0;34m\u001b[0m\u001b[0m\n\u001b[1;32m      6\u001b[0m \u001b[0;31m#print soup\u001b[0m\u001b[0;34m\u001b[0m\u001b[0;34m\u001b[0m\u001b[0m\n\u001b[0;32m----> 7\u001b[0;31m \u001b[0mlyrics\u001b[0m \u001b[0;34m=\u001b[0m \u001b[0mscrape_lyrics\u001b[0m\u001b[0;34m(\u001b[0m\u001b[0murl\u001b[0m\u001b[0;34m)\u001b[0m\u001b[0;34m\u001b[0m\u001b[0m\n\u001b[0m\u001b[1;32m      8\u001b[0m \u001b[0;32mprint\u001b[0m \u001b[0mlyrics\u001b[0m\u001b[0;34m\u001b[0m\u001b[0m\n",
      "\u001b[0;32m<ipython-input-5-b5568466fe6f>\u001b[0m in \u001b[0;36mscrape_lyrics\u001b[0;34m(url)\u001b[0m\n\u001b[1;32m      9\u001b[0m \u001b[0;34m\u001b[0m\u001b[0m\n\u001b[1;32m     10\u001b[0m \u001b[0;34m\u001b[0m\u001b[0m\n\u001b[0;32m---> 11\u001b[0;31m     \u001b[0mlyrics_text\u001b[0m \u001b[0;34m=\u001b[0m \u001b[0;34m\", \"\u001b[0m\u001b[0;34m.\u001b[0m\u001b[0mjoin\u001b[0m\u001b[0;34m(\u001b[0m\u001b[0;34m[\u001b[0m\u001b[0mlyric\u001b[0m \u001b[0;32mfor\u001b[0m \u001b[0mlyric\u001b[0m \u001b[0;32min\u001b[0m \u001b[0mlyrics\u001b[0m\u001b[0;34m.\u001b[0m\u001b[0mstripped_strings\u001b[0m\u001b[0;34m]\u001b[0m\u001b[0;34m)\u001b[0m\u001b[0;34m\u001b[0m\u001b[0m\n\u001b[0m\u001b[1;32m     12\u001b[0m     \u001b[0;32mreturn\u001b[0m \u001b[0mlyrics_text\u001b[0m\u001b[0;34m\u001b[0m\u001b[0m\n",
      "\u001b[0;31mAttributeError\u001b[0m: 'NoneType' object has no attribute 'stripped_strings'"
     ]
    }
   ],
   "source": [
    "songname = 'uptown-funk'\n",
    "artist = 'mark-ronson'\n",
    "\n",
    "url = \"http://genius.com/\" \"songname\" \"-\" \"artist\" \"-lyrics\"\n",
    "#soup = bs(r)\n",
    "#print soup\n",
    "lyrics = scrape_lyrics(url)\n",
    "print lyrics"
   ]
  },
  {
   "cell_type": "code",
   "execution_count": null,
   "metadata": {
    "collapsed": true
   },
   "outputs": [],
   "source": []
  }
 ],
 "metadata": {
  "anaconda-cloud": {},
  "kernelspec": {
   "display_name": "Python [default]",
   "language": "python",
   "name": "python2"
  },
  "language_info": {
   "codemirror_mode": {
    "name": "ipython",
    "version": 2
   },
   "file_extension": ".py",
   "mimetype": "text/x-python",
   "name": "python",
   "nbconvert_exporter": "python",
   "pygments_lexer": "ipython2",
   "version": "2.7.12"
  }
 },
 "nbformat": 4,
 "nbformat_minor": 1
}

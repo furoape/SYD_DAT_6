{
 "cells": [
  {
   "cell_type": "code",
   "execution_count": 1,
   "metadata": {
    "collapsed": true
   },
   "outputs": [],
   "source": [
    "import pandas as pd\n",
    "import pip\n",
    "import nltk\n",
    "import re\n",
    "import plotly"
   ]
  },
  {
   "cell_type": "code",
   "execution_count": 2,
   "metadata": {
    "collapsed": true
   },
   "outputs": [],
   "source": [
    "from nltk.tokenize import word_tokenize"
   ]
  },
  {
   "cell_type": "code",
   "execution_count": 3,
   "metadata": {
    "collapsed": false
   },
   "outputs": [],
   "source": [
    "def count_lyrics(lyr_raw):\n",
    "    lyrics_clean = re.sub(r\"[\\(\\[].*?[\\)\\]]\", \"\", lyr_raw)\n",
    "    lyr_clean = re.sub(r'[^\\w\\s]','',lyrics_clean)\n",
    "    lyr_token = word_tokenize(lyr_clean)\n",
    "    word_count = len(lyr_token)\n",
    "    return word_count\n",
    "\n",
    "def unique_count_lyrics(lyr_raw):\n",
    "    lyrics_clean = re.sub(r\"[\\(\\[].*?[\\)\\]]\", \"\", lyr_raw)\n",
    "    lyr_clean = re.sub(r'[^\\w\\s]','',lyrics_clean)\n",
    "    lyr_token = word_tokenize(lyr_clean)\n",
    "    unique_word_count = len(set(lyr_token))\n",
    "    return unique_word_count"
   ]
  },
  {
   "cell_type": "code",
   "execution_count": 16,
   "metadata": {
    "collapsed": true
   },
   "outputs": [],
   "source": [
    "#Import CSV\n",
    "song_lyr_cols = ['rank', 'songname', 'artist', 'urls', 'lyrics_raw']\n",
    "songlist = pd.read_csv('s11_lyr.csv', header=0, names=song_lyr_cols)"
   ]
  },
  {
   "cell_type": "code",
   "execution_count": 20,
   "metadata": {
    "collapsed": false
   },
   "outputs": [],
   "source": [
    "#print songlist"
   ]
  },
  {
   "cell_type": "code",
   "execution_count": 18,
   "metadata": {
    "collapsed": false
   },
   "outputs": [],
   "source": [
    "#Create Series from raw lyrics column\n",
    "lyr_rawd = pd.Series(songlist.lyrics_raw)"
   ]
  },
  {
   "cell_type": "code",
   "execution_count": 7,
   "metadata": {
    "collapsed": false
   },
   "outputs": [],
   "source": [
    "#print lyr_rawd"
   ]
  },
  {
   "cell_type": "code",
   "execution_count": 21,
   "metadata": {
    "collapsed": false
   },
   "outputs": [],
   "source": [
    "#Create empty series\n",
    "word_counts = []\n",
    "unique_word_counts = []"
   ]
  },
  {
   "cell_type": "code",
   "execution_count": 22,
   "metadata": {
    "collapsed": false
   },
   "outputs": [],
   "source": [
    "#Convert lyrics to tokens and count\n",
    "for lyr_raw in lyr_rawd:\n",
    "    lyr_tok = count_lyrics(lyr_raw)\n",
    "    word_counts.append(lyr_tok)\n",
    "    \n",
    "    lyr_tok = unique_count_lyrics(lyr_raw)\n",
    "    unique_word_counts.append(lyr_tok)"
   ]
  },
  {
   "cell_type": "code",
   "execution_count": 23,
   "metadata": {
    "collapsed": false
   },
   "outputs": [
    {
     "name": "stdout",
     "output_type": "stream",
     "text": [
      "100\n",
      "[130, 132, 138, 192, 154, 135, 116, 188, 127, 179, 186, 91, 100, 132, 103, 119, 122, 153, 140, 172, 342, 222, 151, 126, 137, 124, 89, 233, 93, 119, 194, 137, 97, 386, 168, 176, 179, 230, 144, 92, 409, 108, 186, 89, 287, 69, 294, 83, 130, 268, 295, 155, 136, 104, 114, 186, 103, 129, 157, 105, 102, 108, 202, 203, 149, 135, 135, 65, 62, 135, 157, 102, 64, 160, 126, 79, 99, 111, 127, 139, 153, 134, 98, 151, 231, 120, 143, 173, 112, 148, 70, 131, 182, 100, 216, 131, 96, 98, 147, 203]\n"
     ]
    }
   ],
   "source": [
    "#print (both_word_counts_df.to_string())\n",
    "#pd.isnull(word_counts_df)\n",
    "print len(word_counts)\n",
    "print unique_word_counts\n",
    "#print len(word_counts)"
   ]
  },
  {
   "cell_type": "code",
   "execution_count": 24,
   "metadata": {
    "collapsed": false
   },
   "outputs": [],
   "source": [
    "#Convert word count series to DF\n",
    "word_counts_df = pd.DataFrame(word_counts)\n",
    "word_counts_df.columns = ['word_counts']\n",
    "#print str(word_counts_df)\n",
    "\n",
    "unique_word_counts_df = pd.DataFrame(unique_word_counts)\n",
    "unique_word_counts_df.columns = ['unique_word_counts']"
   ]
  },
  {
   "cell_type": "code",
   "execution_count": 25,
   "metadata": {
    "collapsed": false
   },
   "outputs": [],
   "source": [
    "both_word_counts_df = pd.concat([word_counts_df, unique_word_counts_df], axis=1, ignore_index=False)\n",
    "both_word_counts_df.columns = ['word_counts', 'unique_word_counts']"
   ]
  },
  {
   "cell_type": "code",
   "execution_count": 26,
   "metadata": {
    "collapsed": false
   },
   "outputs": [],
   "source": [
    "songlist_with_count = pd.concat([songlist, both_word_counts_df], axis=1)\n",
    "songlist_with_count.columns = ['rank', 'songname', 'artist', 'urls', 'lyrics_raw', 'word_counts', 'unique_word_counts']"
   ]
  },
  {
   "cell_type": "code",
   "execution_count": 27,
   "metadata": {
    "collapsed": false
   },
   "outputs": [],
   "source": [
    "#print songlist_with_count\n",
    "#print both_word_counts_df"
   ]
  },
  {
   "cell_type": "code",
   "execution_count": 28,
   "metadata": {
    "collapsed": true
   },
   "outputs": [],
   "source": [
    "songlist_with_count.to_csv('s11_count.csv')"
   ]
  },
  {
   "cell_type": "code",
   "execution_count": null,
   "metadata": {
    "collapsed": true
   },
   "outputs": [],
   "source": []
  }
 ],
 "metadata": {
  "anaconda-cloud": {},
  "kernelspec": {
   "display_name": "Python [default]",
   "language": "python",
   "name": "python2"
  },
  "language_info": {
   "codemirror_mode": {
    "name": "ipython",
    "version": 2
   },
   "file_extension": ".py",
   "mimetype": "text/x-python",
   "name": "python",
   "nbconvert_exporter": "python",
   "pygments_lexer": "ipython2",
   "version": "2.7.12"
  }
 },
 "nbformat": 4,
 "nbformat_minor": 1
}
